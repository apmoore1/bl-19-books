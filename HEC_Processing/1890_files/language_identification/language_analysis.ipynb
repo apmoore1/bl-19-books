{
 "cells": [
  {
   "cell_type": "code",
   "execution_count": 1,
   "metadata": {},
   "outputs": [],
   "source": [
    "from collections import Counter\n",
    "import json\n",
    "from pathlib import Path\n",
    "from typing import List, Dict, Any\n",
    "\n",
    "import pandas as pd"
   ]
  },
  {
   "cell_type": "markdown",
   "metadata": {},
   "source": [
    "# Language Analysis results of book from the 1890's\n",
    "\n",
    "In this notebook we hope to answer the following:\n",
    "\n",
    "1. What is the distribution of languages that the book's were written in?\n",
    "2. Are there any books whose volume have different languages? \n",
    "3. What is the distribution and average page length of these books?\n",
    "4. Does the number of pages change the distribution of languages?\n",
    "\n",
    "## Distribution of languages in the 1890's books"
   ]
  },
  {
   "cell_type": "code",
   "execution_count": 2,
   "metadata": {},
   "outputs": [
    {
     "name": "stdout",
     "output_type": "stream",
     "text": [
      "Number of books that have been processed: 14280\n"
     ]
    },
    {
     "data": {
      "text/html": "<div>\n<style scoped>\n    .dataframe tbody tr th:only-of-type {\n        vertical-align: middle;\n    }\n\n    .dataframe tbody tr th {\n        vertical-align: top;\n    }\n\n    .dataframe thead th {\n        text-align: right;\n    }\n</style>\n<table border=\"1\" class=\"dataframe\">\n  <thead>\n    <tr style=\"text-align: right;\">\n      <th></th>\n      <th>Language</th>\n      <th>Percentage (%)</th>\n      <th>Number of books</th>\n    </tr>\n  </thead>\n  <tbody>\n    <tr>\n      <th>0</th>\n      <td>English</td>\n      <td>79.96</td>\n      <td>11419</td>\n    </tr>\n    <tr>\n      <th>1</th>\n      <td>French</td>\n      <td>7.19</td>\n      <td>1027</td>\n    </tr>\n    <tr>\n      <th>2</th>\n      <td>German</td>\n      <td>5.58</td>\n      <td>797</td>\n    </tr>\n    <tr>\n      <th>3</th>\n      <td>Spanish</td>\n      <td>1.40</td>\n      <td>200</td>\n    </tr>\n    <tr>\n      <th>4</th>\n      <td>Italian</td>\n      <td>1.28</td>\n      <td>183</td>\n    </tr>\n    <tr>\n      <th>5</th>\n      <td>Dutch</td>\n      <td>0.83</td>\n      <td>118</td>\n    </tr>\n    <tr>\n      <th>6</th>\n      <td>Hungarian</td>\n      <td>0.68</td>\n      <td>97</td>\n    </tr>\n    <tr>\n      <th>7</th>\n      <td>Russian</td>\n      <td>0.67</td>\n      <td>96</td>\n    </tr>\n    <tr>\n      <th>8</th>\n      <td>Danish</td>\n      <td>0.57</td>\n      <td>82</td>\n    </tr>\n    <tr>\n      <th>9</th>\n      <td>Swedish</td>\n      <td>0.53</td>\n      <td>76</td>\n    </tr>\n    <tr>\n      <th>10</th>\n      <td>Portuguese</td>\n      <td>0.29</td>\n      <td>42</td>\n    </tr>\n    <tr>\n      <th>11</th>\n      <td>Polish</td>\n      <td>0.25</td>\n      <td>36</td>\n    </tr>\n    <tr>\n      <th>12</th>\n      <td>Czech</td>\n      <td>0.22</td>\n      <td>31</td>\n    </tr>\n    <tr>\n      <th>13</th>\n      <td>Latin</td>\n      <td>0.16</td>\n      <td>23</td>\n    </tr>\n    <tr>\n      <th>14</th>\n      <td>Catalan</td>\n      <td>0.11</td>\n      <td>16</td>\n    </tr>\n    <tr>\n      <th>15</th>\n      <td>Greek</td>\n      <td>0.08</td>\n      <td>12</td>\n    </tr>\n    <tr>\n      <th>16</th>\n      <td>Serbian</td>\n      <td>0.04</td>\n      <td>6</td>\n    </tr>\n    <tr>\n      <th>17</th>\n      <td>Lithuanian</td>\n      <td>0.04</td>\n      <td>5</td>\n    </tr>\n    <tr>\n      <th>18</th>\n      <td>Welsh</td>\n      <td>0.03</td>\n      <td>4</td>\n    </tr>\n    <tr>\n      <th>19</th>\n      <td>Bulgarian</td>\n      <td>0.03</td>\n      <td>4</td>\n    </tr>\n    <tr>\n      <th>20</th>\n      <td>Finnish</td>\n      <td>0.01</td>\n      <td>2</td>\n    </tr>\n    <tr>\n      <th>21</th>\n      <td>Romanian</td>\n      <td>0.01</td>\n      <td>2</td>\n    </tr>\n    <tr>\n      <th>22</th>\n      <td>Croatian</td>\n      <td>0.01</td>\n      <td>1</td>\n    </tr>\n    <tr>\n      <th>23</th>\n      <td>Ukrainian</td>\n      <td>0.01</td>\n      <td>1</td>\n    </tr>\n  </tbody>\n</table>\n</div>",
      "text/plain": "      Language  Percentage (%)  Number of books\n0      English           79.96            11419\n1       French            7.19             1027\n2       German            5.58              797\n3      Spanish            1.40              200\n4      Italian            1.28              183\n5        Dutch            0.83              118\n6    Hungarian            0.68               97\n7      Russian            0.67               96\n8       Danish            0.57               82\n9      Swedish            0.53               76\n10  Portuguese            0.29               42\n11      Polish            0.25               36\n12       Czech            0.22               31\n13       Latin            0.16               23\n14     Catalan            0.11               16\n15       Greek            0.08               12\n16     Serbian            0.04                6\n17  Lithuanian            0.04                5\n18       Welsh            0.03                4\n19   Bulgarian            0.03                4\n20     Finnish            0.01                2\n21    Romanian            0.01                2\n22    Croatian            0.01                1\n23   Ukrainian            0.01                1"
     },
     "execution_count": 2,
     "metadata": {},
     "output_type": "execute_result"
    }
   ],
   "source": [
    "def create_language_dataframe(language_count: Dict[str, str]) -> pd.DataFrame:\n",
    "    '''\n",
    "    :param language_count: A dictionary where the keys are language names and \n",
    "                           the values are the number of times the language \n",
    "                           has occured.\n",
    "    :returns: A dataframe with three columns: `Language`, `Percentage (%)`, and \n",
    "              3. `Number of books`. Whereby this describes the number of \n",
    "              books that are in that language and the percentage of all books \n",
    "              that are in that language.\n",
    "    '''\n",
    "    total_language_count = sum(language_count.values())\n",
    "    normalised_language_count = {key: (value / total_language_count) * 100 \n",
    "                             for key, value in language_count.items()}\n",
    "    language_count_data = {\"Language\": [], \"Percentage (%)\": [], \n",
    "                        \"Number of books\": []}\n",
    "    for language, percentage in normalised_language_count.items():\n",
    "        language_count_data['Language'].append(language)\n",
    "        language_count_data['Percentage (%)'].append(round(percentage, 2))\n",
    "        language_count_data['Number of books'].append(language_count[language])\n",
    "    language_count_data_df = pd.DataFrame(language_count_data)\n",
    "    return language_count_data_df.sort_values('Percentage (%)', ascending=False, \n",
    "                                              ignore_index=True)\n",
    "    \n",
    "\n",
    "\n",
    "# import the language id results\n",
    "language_id_results_path = Path('.', 'language_results_1890.json').resolve()\n",
    "results: List[Dict[str, Any]] = []\n",
    "language_count = Counter()\n",
    "with language_id_results_path.open('r') as results_fp:\n",
    "    for line in results_fp:\n",
    "        line = line.strip()\n",
    "        if line:\n",
    "            result = json.loads(line)\n",
    "            results.append(result)\n",
    "            language_count.update([result['language']])\n",
    "number_books_processed = len(results)\n",
    "print(f'Number of books that have been processed: {number_books_processed}')\n",
    "create_language_dataframe(language_count)"
   ]
  },
  {
   "cell_type": "markdown",
   "metadata": {},
   "source": [
    "As we can see from the results above, the majority of the books are English, but ~20% of the books are in another language, of which French is the second highest with 7.19% of the books.\n",
    "\n",
    "## Do any of the books have volumes that are in different identified languages?"
   ]
  },
  {
   "cell_type": "code",
   "execution_count": 3,
   "metadata": {},
   "outputs": [
    {
     "data": {
      "text/html": "<div>\n<style scoped>\n    .dataframe tbody tr th:only-of-type {\n        vertical-align: middle;\n    }\n\n    .dataframe tbody tr th {\n        vertical-align: top;\n    }\n\n    .dataframe thead th {\n        text-align: right;\n    }\n</style>\n<table border=\"1\" class=\"dataframe\">\n  <thead>\n    <tr style=\"text-align: right;\">\n      <th></th>\n      <th>Language</th>\n      <th>Volume</th>\n    </tr>\n    <tr>\n      <th>Identifier</th>\n      <th></th>\n      <th></th>\n    </tr>\n  </thead>\n  <tbody>\n    <tr>\n      <th>000228355</th>\n      <td>2</td>\n      <td>2</td>\n    </tr>\n    <tr>\n      <th>000459957</th>\n      <td>2</td>\n      <td>4</td>\n    </tr>\n    <tr>\n      <th>000624024</th>\n      <td>2</td>\n      <td>2</td>\n    </tr>\n    <tr>\n      <th>001671636</th>\n      <td>2</td>\n      <td>2</td>\n    </tr>\n    <tr>\n      <th>001691448</th>\n      <td>2</td>\n      <td>5</td>\n    </tr>\n    <tr>\n      <th>002654658</th>\n      <td>2</td>\n      <td>2</td>\n    </tr>\n    <tr>\n      <th>002722435</th>\n      <td>2</td>\n      <td>2</td>\n    </tr>\n    <tr>\n      <th>003376382</th>\n      <td>2</td>\n      <td>2</td>\n    </tr>\n  </tbody>\n</table>\n</div>",
      "text/plain": "            Language  Volume\nIdentifier                  \n000228355          2       2\n000459957          2       4\n000624024          2       2\n001671636          2       2\n001691448          2       5\n002654658          2       2\n002722435          2       2\n003376382          2       2"
     },
     "execution_count": 3,
     "metadata": {},
     "output_type": "execute_result"
    }
   ],
   "source": [
    "book_identifiers: List[str] = []\n",
    "book_volumes: List[str] = []\n",
    "languages: List[str] = []\n",
    "\n",
    "for result in results:\n",
    "    languages.append(result['language'])\n",
    "    file_name = result['filename']\n",
    "    identifier, volumne = file_name.split('_')[:2]\n",
    "    book_identifiers.append(identifier)\n",
    "    book_volumes.append(volumne)\n",
    "volume_language_book_df = pd.DataFrame({'Language': languages, \n",
    "                                        'Identifier': book_identifiers, \n",
    "                                        'Volume': book_volumes})\n",
    "volume_language_book_df = volume_language_book_df.groupby('Identifier').nunique()\n",
    "volume_language_book_df[volume_language_book_df['Language'] > 1]"
   ]
  },
  {
   "cell_type": "markdown",
   "metadata": {},
   "source": [
    "As we can see, there are 8 books that have volumes have been identified in two different languages."
   ]
  },
  {
   "cell_type": "markdown",
   "metadata": {},
   "source": [
    "## Distribution and average page length of the 1890's books"
   ]
  },
  {
   "cell_type": "code",
   "execution_count": 4,
   "metadata": {},
   "outputs": [
    {
     "data": {
      "text/html": "<div>\n<style scoped>\n    .dataframe tbody tr th:only-of-type {\n        vertical-align: middle;\n    }\n\n    .dataframe tbody tr th {\n        vertical-align: top;\n    }\n\n    .dataframe thead th {\n        text-align: right;\n    }\n</style>\n<table border=\"1\" class=\"dataframe\">\n  <thead>\n    <tr style=\"text-align: right;\">\n      <th>Number pages</th>\n      <th>0</th>\n      <th>10</th>\n      <th>20</th>\n      <th>30</th>\n      <th>40</th>\n      <th>50</th>\n      <th>60</th>\n      <th>70</th>\n      <th>80</th>\n      <th>90</th>\n      <th>100</th>\n      <th>110</th>\n      <th>120</th>\n      <th>130</th>\n      <th>140</th>\n      <th>150</th>\n      <th>160</th>\n      <th>170</th>\n      <th>180</th>\n      <th>190</th>\n      <th>200</th>\n      <th>210</th>\n      <th>220</th>\n      <th>230</th>\n      <th>240</th>\n      <th>250</th>\n      <th>260</th>\n      <th>270</th>\n      <th>280</th>\n      <th>290</th>\n      <th>300</th>\n      <th>310</th>\n      <th>320</th>\n      <th>330</th>\n      <th>340</th>\n      <th>350</th>\n      <th>360</th>\n      <th>370</th>\n      <th>380</th>\n      <th>390</th>\n      <th>400</th>\n      <th>410</th>\n      <th>420</th>\n      <th>430</th>\n      <th>440</th>\n      <th>450</th>\n      <th>460</th>\n      <th>470</th>\n      <th>480</th>\n      <th>490</th>\n      <th>500</th>\n      <th>510</th>\n      <th>520</th>\n      <th>530</th>\n      <th>540</th>\n      <th>550</th>\n      <th>560</th>\n      <th>570</th>\n      <th>580</th>\n      <th>590</th>\n      <th>600</th>\n      <th>610</th>\n      <th>620</th>\n      <th>630</th>\n      <th>640</th>\n      <th>650</th>\n      <th>660</th>\n      <th>670</th>\n      <th>680</th>\n      <th>690</th>\n      <th>700</th>\n      <th>710</th>\n      <th>720</th>\n      <th>730</th>\n      <th>740</th>\n      <th>750</th>\n      <th>760</th>\n      <th>770</th>\n      <th>780</th>\n      <th>790</th>\n      <th>800</th>\n      <th>810</th>\n      <th>820</th>\n      <th>830</th>\n      <th>840</th>\n      <th>850</th>\n      <th>860</th>\n      <th>870</th>\n      <th>880</th>\n      <th>890</th>\n      <th>900</th>\n      <th>910</th>\n      <th>920</th>\n      <th>930</th>\n      <th>940</th>\n      <th>950</th>\n      <th>960</th>\n      <th>980</th>\n      <th>990</th>\n      <th>1000</th>\n      <th>1010</th>\n      <th>1020</th>\n      <th>1030</th>\n      <th>1040</th>\n      <th>1050</th>\n      <th>1060</th>\n      <th>1070</th>\n      <th>1080</th>\n      <th>1090</th>\n      <th>1100</th>\n      <th>1110</th>\n      <th>1120</th>\n      <th>1130</th>\n      <th>1140</th>\n      <th>1150</th>\n      <th>1160</th>\n      <th>1170</th>\n      <th>1180</th>\n      <th>1190</th>\n      <th>1200</th>\n      <th>1210</th>\n      <th>1220</th>\n      <th>1240</th>\n      <th>1270</th>\n      <th>1300</th>\n      <th>1370</th>\n      <th>1380</th>\n      <th>1420</th>\n      <th>1530</th>\n      <th>1600</th>\n      <th>1790</th>\n    </tr>\n  </thead>\n  <tbody>\n    <tr>\n      <th>Count</th>\n      <td>109.00</td>\n      <td>195.00</td>\n      <td>182.00</td>\n      <td>188.00</td>\n      <td>141.00</td>\n      <td>176.00</td>\n      <td>163.00</td>\n      <td>152.00</td>\n      <td>168.00</td>\n      <td>186.00</td>\n      <td>197.00</td>\n      <td>175.00</td>\n      <td>226.00</td>\n      <td>213.00</td>\n      <td>185.0</td>\n      <td>188.00</td>\n      <td>195.00</td>\n      <td>196.00</td>\n      <td>211.00</td>\n      <td>234.00</td>\n      <td>251.00</td>\n      <td>248.00</td>\n      <td>294.00</td>\n      <td>329.00</td>\n      <td>379.00</td>\n      <td>465.00</td>\n      <td>395.00</td>\n      <td>393.00</td>\n      <td>461.00</td>\n      <td>477.00</td>\n      <td>543.00</td>\n      <td>629.00</td>\n      <td>425.00</td>\n      <td>435.00</td>\n      <td>352.00</td>\n      <td>389.00</td>\n      <td>312.00</td>\n      <td>257.00</td>\n      <td>288.00</td>\n      <td>252.00</td>\n      <td>211.00</td>\n      <td>210.00</td>\n      <td>151.00</td>\n      <td>158.00</td>\n      <td>183.00</td>\n      <td>143.00</td>\n      <td>136.00</td>\n      <td>131.00</td>\n      <td>123.00</td>\n      <td>108.00</td>\n      <td>99.00</td>\n      <td>90.00</td>\n      <td>82.00</td>\n      <td>74.00</td>\n      <td>72.00</td>\n      <td>50.00</td>\n      <td>59.00</td>\n      <td>62.00</td>\n      <td>48.00</td>\n      <td>58.00</td>\n      <td>41.00</td>\n      <td>43.00</td>\n      <td>36.00</td>\n      <td>32.00</td>\n      <td>42.00</td>\n      <td>26.00</td>\n      <td>27.00</td>\n      <td>44.00</td>\n      <td>50.00</td>\n      <td>33.00</td>\n      <td>25.00</td>\n      <td>26.00</td>\n      <td>22.00</td>\n      <td>24.00</td>\n      <td>13.00</td>\n      <td>15.00</td>\n      <td>25.00</td>\n      <td>18.00</td>\n      <td>20.00</td>\n      <td>19.00</td>\n      <td>17.00</td>\n      <td>13.00</td>\n      <td>9.00</td>\n      <td>10.00</td>\n      <td>14.00</td>\n      <td>10.00</td>\n      <td>6.00</td>\n      <td>5.00</td>\n      <td>2.00</td>\n      <td>10.00</td>\n      <td>8.00</td>\n      <td>4.00</td>\n      <td>4.00</td>\n      <td>7.00</td>\n      <td>5.00</td>\n      <td>6.00</td>\n      <td>4.00</td>\n      <td>1.00</td>\n      <td>6.00</td>\n      <td>5.00</td>\n      <td>2.00</td>\n      <td>3.00</td>\n      <td>2.00</td>\n      <td>2.00</td>\n      <td>2.00</td>\n      <td>2.00</td>\n      <td>2.00</td>\n      <td>1.00</td>\n      <td>4.00</td>\n      <td>1.00</td>\n      <td>3.00</td>\n      <td>1.00</td>\n      <td>3.00</td>\n      <td>2.00</td>\n      <td>1.00</td>\n      <td>1.00</td>\n      <td>3.00</td>\n      <td>2.00</td>\n      <td>1.00</td>\n      <td>1.00</td>\n      <td>1.00</td>\n      <td>1.00</td>\n      <td>2.00</td>\n      <td>1.00</td>\n      <td>1.00</td>\n      <td>1.00</td>\n      <td>1.00</td>\n      <td>1.00</td>\n      <td>1.00</td>\n      <td>1.00</td>\n      <td>1.00</td>\n    </tr>\n    <tr>\n      <th>Percentage (%)</th>\n      <td>0.76</td>\n      <td>1.37</td>\n      <td>1.27</td>\n      <td>1.32</td>\n      <td>0.99</td>\n      <td>1.23</td>\n      <td>1.14</td>\n      <td>1.06</td>\n      <td>1.18</td>\n      <td>1.30</td>\n      <td>1.38</td>\n      <td>1.23</td>\n      <td>1.58</td>\n      <td>1.49</td>\n      <td>1.3</td>\n      <td>1.32</td>\n      <td>1.37</td>\n      <td>1.37</td>\n      <td>1.48</td>\n      <td>1.64</td>\n      <td>1.76</td>\n      <td>1.74</td>\n      <td>2.06</td>\n      <td>2.30</td>\n      <td>2.65</td>\n      <td>3.26</td>\n      <td>2.77</td>\n      <td>2.75</td>\n      <td>3.23</td>\n      <td>3.34</td>\n      <td>3.80</td>\n      <td>4.40</td>\n      <td>2.98</td>\n      <td>3.05</td>\n      <td>2.46</td>\n      <td>2.72</td>\n      <td>2.18</td>\n      <td>1.80</td>\n      <td>2.02</td>\n      <td>1.76</td>\n      <td>1.48</td>\n      <td>1.47</td>\n      <td>1.06</td>\n      <td>1.11</td>\n      <td>1.28</td>\n      <td>1.00</td>\n      <td>0.95</td>\n      <td>0.92</td>\n      <td>0.86</td>\n      <td>0.76</td>\n      <td>0.69</td>\n      <td>0.63</td>\n      <td>0.57</td>\n      <td>0.52</td>\n      <td>0.50</td>\n      <td>0.35</td>\n      <td>0.41</td>\n      <td>0.43</td>\n      <td>0.34</td>\n      <td>0.41</td>\n      <td>0.29</td>\n      <td>0.30</td>\n      <td>0.25</td>\n      <td>0.22</td>\n      <td>0.29</td>\n      <td>0.18</td>\n      <td>0.19</td>\n      <td>0.31</td>\n      <td>0.35</td>\n      <td>0.23</td>\n      <td>0.18</td>\n      <td>0.18</td>\n      <td>0.15</td>\n      <td>0.17</td>\n      <td>0.09</td>\n      <td>0.11</td>\n      <td>0.18</td>\n      <td>0.13</td>\n      <td>0.14</td>\n      <td>0.13</td>\n      <td>0.12</td>\n      <td>0.09</td>\n      <td>0.06</td>\n      <td>0.07</td>\n      <td>0.10</td>\n      <td>0.07</td>\n      <td>0.04</td>\n      <td>0.04</td>\n      <td>0.01</td>\n      <td>0.07</td>\n      <td>0.06</td>\n      <td>0.03</td>\n      <td>0.03</td>\n      <td>0.05</td>\n      <td>0.04</td>\n      <td>0.04</td>\n      <td>0.03</td>\n      <td>0.01</td>\n      <td>0.04</td>\n      <td>0.04</td>\n      <td>0.01</td>\n      <td>0.02</td>\n      <td>0.01</td>\n      <td>0.01</td>\n      <td>0.01</td>\n      <td>0.01</td>\n      <td>0.01</td>\n      <td>0.01</td>\n      <td>0.03</td>\n      <td>0.01</td>\n      <td>0.02</td>\n      <td>0.01</td>\n      <td>0.02</td>\n      <td>0.01</td>\n      <td>0.01</td>\n      <td>0.01</td>\n      <td>0.02</td>\n      <td>0.01</td>\n      <td>0.01</td>\n      <td>0.01</td>\n      <td>0.01</td>\n      <td>0.01</td>\n      <td>0.01</td>\n      <td>0.01</td>\n      <td>0.01</td>\n      <td>0.01</td>\n      <td>0.01</td>\n      <td>0.01</td>\n      <td>0.01</td>\n      <td>0.01</td>\n      <td>0.01</td>\n    </tr>\n    <tr>\n      <th>Cumulative Percentage (%)</th>\n      <td>0.76</td>\n      <td>2.13</td>\n      <td>3.40</td>\n      <td>4.72</td>\n      <td>5.71</td>\n      <td>6.94</td>\n      <td>8.08</td>\n      <td>9.14</td>\n      <td>10.32</td>\n      <td>11.62</td>\n      <td>13.00</td>\n      <td>14.23</td>\n      <td>15.81</td>\n      <td>17.30</td>\n      <td>18.6</td>\n      <td>19.92</td>\n      <td>21.29</td>\n      <td>22.66</td>\n      <td>24.14</td>\n      <td>25.78</td>\n      <td>27.54</td>\n      <td>29.28</td>\n      <td>31.34</td>\n      <td>33.64</td>\n      <td>36.29</td>\n      <td>39.55</td>\n      <td>42.32</td>\n      <td>45.07</td>\n      <td>48.30</td>\n      <td>51.64</td>\n      <td>55.44</td>\n      <td>59.84</td>\n      <td>62.82</td>\n      <td>65.87</td>\n      <td>68.33</td>\n      <td>71.05</td>\n      <td>73.23</td>\n      <td>75.03</td>\n      <td>77.05</td>\n      <td>78.81</td>\n      <td>80.29</td>\n      <td>81.76</td>\n      <td>82.82</td>\n      <td>83.93</td>\n      <td>85.21</td>\n      <td>86.21</td>\n      <td>87.16</td>\n      <td>88.08</td>\n      <td>88.94</td>\n      <td>89.70</td>\n      <td>90.39</td>\n      <td>91.02</td>\n      <td>91.59</td>\n      <td>92.11</td>\n      <td>92.61</td>\n      <td>92.96</td>\n      <td>93.37</td>\n      <td>93.80</td>\n      <td>94.14</td>\n      <td>94.55</td>\n      <td>94.84</td>\n      <td>95.14</td>\n      <td>95.39</td>\n      <td>95.61</td>\n      <td>95.90</td>\n      <td>96.08</td>\n      <td>96.27</td>\n      <td>96.58</td>\n      <td>96.93</td>\n      <td>97.16</td>\n      <td>97.34</td>\n      <td>97.52</td>\n      <td>97.67</td>\n      <td>97.84</td>\n      <td>97.93</td>\n      <td>98.04</td>\n      <td>98.22</td>\n      <td>98.35</td>\n      <td>98.49</td>\n      <td>98.62</td>\n      <td>98.74</td>\n      <td>98.83</td>\n      <td>98.89</td>\n      <td>98.96</td>\n      <td>99.06</td>\n      <td>99.13</td>\n      <td>99.17</td>\n      <td>99.21</td>\n      <td>99.22</td>\n      <td>99.29</td>\n      <td>99.35</td>\n      <td>99.38</td>\n      <td>99.41</td>\n      <td>99.46</td>\n      <td>99.50</td>\n      <td>99.54</td>\n      <td>99.57</td>\n      <td>99.58</td>\n      <td>99.62</td>\n      <td>99.66</td>\n      <td>99.67</td>\n      <td>99.69</td>\n      <td>99.70</td>\n      <td>99.71</td>\n      <td>99.72</td>\n      <td>99.73</td>\n      <td>99.74</td>\n      <td>99.75</td>\n      <td>99.78</td>\n      <td>99.79</td>\n      <td>99.81</td>\n      <td>99.82</td>\n      <td>99.84</td>\n      <td>99.85</td>\n      <td>99.86</td>\n      <td>99.87</td>\n      <td>99.89</td>\n      <td>99.90</td>\n      <td>99.91</td>\n      <td>99.92</td>\n      <td>99.93</td>\n      <td>99.94</td>\n      <td>99.95</td>\n      <td>99.96</td>\n      <td>99.97</td>\n      <td>99.98</td>\n      <td>99.99</td>\n      <td>100.00</td>\n      <td>100.01</td>\n      <td>100.02</td>\n      <td>100.03</td>\n    </tr>\n  </tbody>\n</table>\n</div>",
      "text/plain": "Number pages                 0       10      20      30      40      50    \\\nCount                      109.00  195.00  182.00  188.00  141.00  176.00   \nPercentage (%)               0.76    1.37    1.27    1.32    0.99    1.23   \nCumulative Percentage (%)    0.76    2.13    3.40    4.72    5.71    6.94   \n\nNumber pages                 60      70      80      90      100     110   \\\nCount                      163.00  152.00  168.00  186.00  197.00  175.00   \nPercentage (%)               1.14    1.06    1.18    1.30    1.38    1.23   \nCumulative Percentage (%)    8.08    9.14   10.32   11.62   13.00   14.23   \n\nNumber pages                 120     130    140     150     160     170   \\\nCount                      226.00  213.00  185.0  188.00  195.00  196.00   \nPercentage (%)               1.58    1.49    1.3    1.32    1.37    1.37   \nCumulative Percentage (%)   15.81   17.30   18.6   19.92   21.29   22.66   \n\nNumber pages                 180     190     200     210     220     230   \\\nCount                      211.00  234.00  251.00  248.00  294.00  329.00   \nPercentage (%)               1.48    1.64    1.76    1.74    2.06    2.30   \nCumulative Percentage (%)   24.14   25.78   27.54   29.28   31.34   33.64   \n\nNumber pages                 240     250     260     270     280     290   \\\nCount                      379.00  465.00  395.00  393.00  461.00  477.00   \nPercentage (%)               2.65    3.26    2.77    2.75    3.23    3.34   \nCumulative Percentage (%)   36.29   39.55   42.32   45.07   48.30   51.64   \n\nNumber pages                 300     310     320     330     340     350   \\\nCount                      543.00  629.00  425.00  435.00  352.00  389.00   \nPercentage (%)               3.80    4.40    2.98    3.05    2.46    2.72   \nCumulative Percentage (%)   55.44   59.84   62.82   65.87   68.33   71.05   \n\nNumber pages                 360     370     380     390     400     410   \\\nCount                      312.00  257.00  288.00  252.00  211.00  210.00   \nPercentage (%)               2.18    1.80    2.02    1.76    1.48    1.47   \nCumulative Percentage (%)   73.23   75.03   77.05   78.81   80.29   81.76   \n\nNumber pages                 420     430     440     450     460     470   \\\nCount                      151.00  158.00  183.00  143.00  136.00  131.00   \nPercentage (%)               1.06    1.11    1.28    1.00    0.95    0.92   \nCumulative Percentage (%)   82.82   83.93   85.21   86.21   87.16   88.08   \n\nNumber pages                 480     490    500    510    520    530    540   \\\nCount                      123.00  108.00  99.00  90.00  82.00  74.00  72.00   \nPercentage (%)               0.86    0.76   0.69   0.63   0.57   0.52   0.50   \nCumulative Percentage (%)   88.94   89.70  90.39  91.02  91.59  92.11  92.61   \n\nNumber pages                550    560    570    580    590    600    610   \\\nCount                      50.00  59.00  62.00  48.00  58.00  41.00  43.00   \nPercentage (%)              0.35   0.41   0.43   0.34   0.41   0.29   0.30   \nCumulative Percentage (%)  92.96  93.37  93.80  94.14  94.55  94.84  95.14   \n\nNumber pages                620    630    640    650    660    670    680   \\\nCount                      36.00  32.00  42.00  26.00  27.00  44.00  50.00   \nPercentage (%)              0.25   0.22   0.29   0.18   0.19   0.31   0.35   \nCumulative Percentage (%)  95.39  95.61  95.90  96.08  96.27  96.58  96.93   \n\nNumber pages                690    700    710    720    730    740    750   \\\nCount                      33.00  25.00  26.00  22.00  24.00  13.00  15.00   \nPercentage (%)              0.23   0.18   0.18   0.15   0.17   0.09   0.11   \nCumulative Percentage (%)  97.16  97.34  97.52  97.67  97.84  97.93  98.04   \n\nNumber pages                760    770    780    790    800    810    820   \\\nCount                      25.00  18.00  20.00  19.00  17.00  13.00   9.00   \nPercentage (%)              0.18   0.13   0.14   0.13   0.12   0.09   0.06   \nCumulative Percentage (%)  98.22  98.35  98.49  98.62  98.74  98.83  98.89   \n\nNumber pages                830    840    850    860    870    880    890   \\\nCount                      10.00  14.00  10.00   6.00   5.00   2.00  10.00   \nPercentage (%)              0.07   0.10   0.07   0.04   0.04   0.01   0.07   \nCumulative Percentage (%)  98.96  99.06  99.13  99.17  99.21  99.22  99.29   \n\nNumber pages                900    910    920    930    940    950    960   \\\nCount                       8.00   4.00   4.00   7.00   5.00   6.00   4.00   \nPercentage (%)              0.06   0.03   0.03   0.05   0.04   0.04   0.03   \nCumulative Percentage (%)  99.35  99.38  99.41  99.46  99.50  99.54  99.57   \n\nNumber pages                980    990    1000   1010   1020   1030   1040  \\\nCount                       1.00   6.00   5.00   2.00   3.00   2.00   2.00   \nPercentage (%)              0.01   0.04   0.04   0.01   0.02   0.01   0.01   \nCumulative Percentage (%)  99.58  99.62  99.66  99.67  99.69  99.70  99.71   \n\nNumber pages                1050   1060   1070   1080   1090   1100   1110  \\\nCount                       2.00   2.00   2.00   1.00   4.00   1.00   3.00   \nPercentage (%)              0.01   0.01   0.01   0.01   0.03   0.01   0.02   \nCumulative Percentage (%)  99.72  99.73  99.74  99.75  99.78  99.79  99.81   \n\nNumber pages                1120   1130   1140   1150   1160   1170   1180  \\\nCount                       1.00   3.00   2.00   1.00   1.00   3.00   2.00   \nPercentage (%)              0.01   0.02   0.01   0.01   0.01   0.02   0.01   \nCumulative Percentage (%)  99.82  99.84  99.85  99.86  99.87  99.89  99.90   \n\nNumber pages                1190   1200   1210   1220   1240   1270   1300  \\\nCount                       1.00   1.00   1.00   1.00   2.00   1.00   1.00   \nPercentage (%)              0.01   0.01   0.01   0.01   0.01   0.01   0.01   \nCumulative Percentage (%)  99.91  99.92  99.93  99.94  99.95  99.96  99.97   \n\nNumber pages                1370   1380    1420    1530    1600    1790  \nCount                       1.00   1.00    1.00    1.00    1.00    1.00  \nPercentage (%)              0.01   0.01    0.01    0.01    0.01    0.01  \nCumulative Percentage (%)  99.98  99.99  100.00  100.01  100.02  100.03  "
     },
     "metadata": {},
     "output_type": "display_data"
    }
   ],
   "source": [
    "rounded_page_counter = Counter()\n",
    "list_of_page_numbers = []\n",
    "for result in results:\n",
    "    page_count = 0\n",
    "    for language_details in result['language_extras'].values():\n",
    "        page_count += int(language_details['count'])\n",
    "    list_of_page_numbers.append(page_count)\n",
    "    page_count = (page_count // 10) * 10\n",
    "    rounded_page_counter.update([page_count])\n",
    "\n",
    "total_page_count = sum(rounded_page_counter.values())\n",
    "df_number_pages = []\n",
    "page_counts = []\n",
    "page_count_percentage = []\n",
    "for number_pages, page_count in rounded_page_counter.items():\n",
    "    df_number_pages.append(number_pages)\n",
    "    page_counts.append(page_count)\n",
    "    page_count_percentage.append(round((page_count / total_page_count) * 100, 2))\n",
    "\n",
    "with pd.option_context('display.max_rows', None, 'display.max_columns', None):\n",
    "    page_count_df = pd.DataFrame({'Number pages': df_number_pages, 'Count': page_counts, 'Percentage (%)': page_count_percentage})\n",
    "    page_count_df = page_count_df.sort_values('Number pages')\n",
    "    page_count_df['Cumulative Percentage (%)'] = page_count_df['Percentage (%)'].cumsum()\n",
    "    page_count_df = page_count_df.set_index('Number pages')\n",
    "    display(page_count_df.T)"
   ]
  },
  {
   "cell_type": "code",
   "execution_count": 5,
   "metadata": {},
   "outputs": [
    {
     "data": {
      "text/plain": "count    14280.000000\nmean       301.701891\nstd        172.133592\nmin          1.000000\n25%        194.000000\n50%        295.000000\n75%        379.000000\nmax       1798.000000\ndtype: float64"
     },
     "execution_count": 5,
     "metadata": {},
     "output_type": "execute_result"
    }
   ],
   "source": [
    "pd.Series(list_of_page_numbers).describe()"
   ]
  },
  {
   "cell_type": "markdown",
   "metadata": {},
   "source": [
    "As we can see the mean number of pages in a book is around 300 and 50% of books have between 194 and 379 pages.\n",
    "\n",
    "However we can see that around 5.7% of all books have less than 50 pages, which I found unusal, but more unusual is that 0.76% of books have less than 10 pages. Below we plot the number of books by page count for books with less than 10 pages:\n",
    "\n"
   ]
  },
  {
   "cell_type": "code",
   "execution_count": 6,
   "metadata": {},
   "outputs": [
    {
     "name": "stdout",
     "output_type": "stream",
     "text": [
      "Number pages: 1, Count: 3\n",
      "Number pages: 2, Count: 5\n",
      "Number pages: 3, Count: 15\n",
      "Number pages: 4, Count: 18\n",
      "Number pages: 5, Count: 8\n",
      "Number pages: 6, Count: 12\n",
      "Number pages: 7, Count: 17\n",
      "Number pages: 8, Count: 9\n",
      "Number pages: 9, Count: 22\n"
     ]
    }
   ],
   "source": [
    "page_counts_less_than_10 = [page_number for page_number in list_of_page_numbers if page_number < 10]\n",
    "for page_number, count in sorted(Counter(page_counts_less_than_10).items()):\n",
    "    print(f'Number pages: {page_number}, Count: {count}')"
   ]
  },
  {
   "cell_type": "markdown",
   "metadata": {},
   "source": [
    "From this we can see that 3 books have 1 page, which is unusual I think for a book, the identifiers for the books and their volumne number can be seen below:"
   ]
  },
  {
   "cell_type": "code",
   "execution_count": 7,
   "metadata": {},
   "outputs": [
    {
     "name": "stdout",
     "output_type": "stream",
     "text": [
      "Identifier: 000624024, Volumne number: 02\n",
      "Identifier: 000396864, Volumne number: 01\n",
      "Identifier: 000522164, Volumne number: 01\n"
     ]
    }
   ],
   "source": [
    "identifier_for_1_page_books = []\n",
    "volumne_number_for_1_page_books = []\n",
    "for result in results:\n",
    "    page_count = 0\n",
    "    for language_details in result['language_extras'].values():\n",
    "        page_count += int(language_details['count'])\n",
    "    if page_count == 1:\n",
    "        file_name = result['filename']\n",
    "        identifier, volumne, _ = file_name.split('_')\n",
    "        identifier_for_1_page_books.append(identifier)\n",
    "        volumne_number_for_1_page_books.append(volumne)\n",
    "\n",
    "for identifier, volumne_number in zip(identifier_for_1_page_books, volumne_number_for_1_page_books):\n",
    "    print(f'Identifier: {identifier}, Volumne number: {volumne_number}')"
   ]
  },
  {
   "cell_type": "markdown",
   "metadata": {},
   "source": [
    "Exploring the British Library collection online:\n",
    "\n",
    "1. 000522164 -- is \"In Memory of Prince Albert Victor Edward of England, Duke of Clarence, died 14 Jan. 1892. [Verses.]\", which is indeed one page long and can be found [here](http://explore.bl.uk/primo_library/libweb/action/display.do?frbrVersion=2&tabs=moreTab&ct=display&fn=search&doc=BLL01014608183&indx=1&recIds=BLL01014608183&recIdxs=0&elementId=0&renderMode=poppedOut&displayMode=full&frbrVersion=2&frbg=&&dscnt=0&scp.scps=scope%3A%28BLCONTENT%29&vl(2084770704UI0)=any&tb=t&vid=BLVU1&mode=Basic&srt=rank&tab=local_tab&dum=true&vl(freeText0)=In%20Memory%20of%20Prince%20Albert%20Victor%20Edward%20of%20England%2C%20Duke%20of%20Clarence%2C%20died%2014%20Jan.%201892.&dstmp=1627839394107)\n",
    "2. 000396864 -- is \"Song. The Life of Love is but a Day\", which again is one page long and can be found [here](http://explore.bl.uk/primo_library/libweb/action/display.do?frbrVersion=2&tabs=moreTab&ct=display&fn=search&doc=BLL01014635279&indx=1&recIds=BLL01014635279&recIdxs=0&elementId=0&renderMode=poppedOut&displayMode=full&frbrVersion=2&frbg=&&dscnt=0&scp.scps=scope%3A%28BLCONTENT%29&vl(2084770704UI0)=any&tb=t&vid=BLVU1&mode=Basic&srt=rank&tab=local_tab&dum=true&vl(freeText0)=Song.%20The%20Life%20of%20Love%20is%20but%20a%20Day&dstmp=1627839546003)\n",
    "3. 000624024 -- is \"Dieci anni in Equatoria e ritorno con Emin Pascia ... Con ... illustrazioni e ... carte, etc. [With a portrait.]']\", but as it is in volume 2 I cannot verify if it is one page as I can only find volume one [online](http://explore.bl.uk/primo_library/libweb/action/display.do?tabs=moreTab&ct=display&fn=search&doc=BLL01014839572&indx=1&recIds=BLL01014839572&recIdxs=0&elementId=0&renderMode=poppedOut&displayMode=full&frbrVersion=&dscnt=0&vl(2084770704UI0)=any&mode=Basic&vid=BLVU1&tab=available_online&dstmp=1627842397007&frbg=&frbrVersion=&viewAllItemsClicked=false&scp.scps=scope%3A%28BLWEBSITE%29%2Cscope%3A%28BLO_WA%29%2Cscope%3A%28BLO_Aleph%29%2Cscope%3A%28BLO_SFX%29%2Cscope%3A%28BLO_SAMI%29&tb=t&srt=rank&dum=true&selectedLocation=&vl(freeText0)=Dieci%20anni%20in%20Equatoria%20e%20ritorno%20con%20Emin%20Pascia%20...%20Con%20...%20illustrazioni%20e%20...%20carte%2C%20etc.%20%5BWith%20a%20portrait.)."
   ]
  },
  {
   "cell_type": "markdown",
   "metadata": {},
   "source": [
    "## Page length and the affect it may cause on language identification\n",
    "\n",
    "Having fewer pages in a book might be affecting the outcome of the language identification model. To test this we are going to group the books by page counts, where page counts will be round down to the neareast 10 pages e.g. less than 9 pages will be grouped to 0 and less than 19 grouped to 10, this grouping will be done for all book with less than 50 pages. Once grouped we will see that the distribution of languages are for those page count groups:"
   ]
  },
  {
   "cell_type": "code",
   "execution_count": 8,
   "metadata": {},
   "outputs": [],
   "source": [
    "def filter_books_by_page_count(books: List[Dict[str, Any]], \n",
    "                               min_number_pages: int,\n",
    "                               max_number_pages: int\n",
    "                               ) -> List[Dict[str, Any]]:\n",
    "    filtered_results: List[Dict[str, Any]] = []\n",
    "    for book in books:\n",
    "        page_count = 0\n",
    "        for language_details in book['language_extras'].values():\n",
    "            page_count += int(language_details['count'])\n",
    "        if (page_count >= min_number_pages) and (page_count <= max_number_pages):\n",
    "            filtered_results.append(book)\n",
    "    return filtered_results\n",
    "\n",
    "def books_by_page_count_group(books: List[Dict[str, Any]], min_page_count: int, \n",
    "                              max_page_count: int) -> List[str]:\n",
    "    language_of_books: List[str] = []\n",
    "    for book in books:\n",
    "        page_count = 0\n",
    "        for language_details in book['language_extras'].values():\n",
    "            page_count += int(language_details['count'])\n",
    "        if (page_count >= min_page_count) and (page_count <= max_page_count):\n",
    "            language_of_books.append(book['language'])\n",
    "    return language_of_books\n",
    "\n",
    "filtered_results = filter_books_by_page_count(results, 0, 49)"
   ]
  },
  {
   "cell_type": "markdown",
   "metadata": {},
   "source": [
    "### 0-9 pages"
   ]
  },
  {
   "cell_type": "code",
   "execution_count": 9,
   "metadata": {},
   "outputs": [
    {
     "data": {
      "text/html": "<div>\n<style scoped>\n    .dataframe tbody tr th:only-of-type {\n        vertical-align: middle;\n    }\n\n    .dataframe tbody tr th {\n        vertical-align: top;\n    }\n\n    .dataframe thead th {\n        text-align: right;\n    }\n</style>\n<table border=\"1\" class=\"dataframe\">\n  <thead>\n    <tr style=\"text-align: right;\">\n      <th></th>\n      <th>Language</th>\n      <th>Percentage (%)</th>\n      <th>Number of books</th>\n    </tr>\n  </thead>\n  <tbody>\n    <tr>\n      <th>0</th>\n      <td>English</td>\n      <td>91.74</td>\n      <td>100</td>\n    </tr>\n    <tr>\n      <th>1</th>\n      <td>French</td>\n      <td>5.50</td>\n      <td>6</td>\n    </tr>\n    <tr>\n      <th>2</th>\n      <td>Russian</td>\n      <td>0.92</td>\n      <td>1</td>\n    </tr>\n    <tr>\n      <th>3</th>\n      <td>Spanish</td>\n      <td>0.92</td>\n      <td>1</td>\n    </tr>\n    <tr>\n      <th>4</th>\n      <td>Danish</td>\n      <td>0.92</td>\n      <td>1</td>\n    </tr>\n  </tbody>\n</table>\n</div>",
      "text/plain": "  Language  Percentage (%)  Number of books\n0  English           91.74              100\n1   French            5.50                6\n2  Russian            0.92                1\n3  Spanish            0.92                1\n4   Danish            0.92                1"
     },
     "execution_count": 9,
     "metadata": {},
     "output_type": "execute_result"
    }
   ],
   "source": [
    "\n",
    "create_language_dataframe(Counter(books_by_page_count_group(filtered_results, 0, 9)))"
   ]
  },
  {
   "cell_type": "markdown",
   "metadata": {},
   "source": [
    "### 10-19 pages"
   ]
  },
  {
   "cell_type": "code",
   "execution_count": 10,
   "metadata": {},
   "outputs": [
    {
     "data": {
      "text/html": "<div>\n<style scoped>\n    .dataframe tbody tr th:only-of-type {\n        vertical-align: middle;\n    }\n\n    .dataframe tbody tr th {\n        vertical-align: top;\n    }\n\n    .dataframe thead th {\n        text-align: right;\n    }\n</style>\n<table border=\"1\" class=\"dataframe\">\n  <thead>\n    <tr style=\"text-align: right;\">\n      <th></th>\n      <th>Language</th>\n      <th>Percentage (%)</th>\n      <th>Number of books</th>\n    </tr>\n  </thead>\n  <tbody>\n    <tr>\n      <th>0</th>\n      <td>English</td>\n      <td>86.15</td>\n      <td>168</td>\n    </tr>\n    <tr>\n      <th>1</th>\n      <td>French</td>\n      <td>7.18</td>\n      <td>14</td>\n    </tr>\n    <tr>\n      <th>2</th>\n      <td>German</td>\n      <td>2.05</td>\n      <td>4</td>\n    </tr>\n    <tr>\n      <th>3</th>\n      <td>Dutch</td>\n      <td>2.05</td>\n      <td>4</td>\n    </tr>\n    <tr>\n      <th>4</th>\n      <td>Italian</td>\n      <td>1.54</td>\n      <td>3</td>\n    </tr>\n    <tr>\n      <th>5</th>\n      <td>Russian</td>\n      <td>1.03</td>\n      <td>2</td>\n    </tr>\n  </tbody>\n</table>\n</div>",
      "text/plain": "  Language  Percentage (%)  Number of books\n0  English           86.15              168\n1   French            7.18               14\n2   German            2.05                4\n3    Dutch            2.05                4\n4  Italian            1.54                3\n5  Russian            1.03                2"
     },
     "execution_count": 10,
     "metadata": {},
     "output_type": "execute_result"
    }
   ],
   "source": [
    "create_language_dataframe(Counter(books_by_page_count_group(filtered_results, 10, 19)))"
   ]
  },
  {
   "cell_type": "markdown",
   "metadata": {},
   "source": [
    "### 20-29 pages"
   ]
  },
  {
   "cell_type": "code",
   "execution_count": 11,
   "metadata": {},
   "outputs": [
    {
     "data": {
      "text/html": "<div>\n<style scoped>\n    .dataframe tbody tr th:only-of-type {\n        vertical-align: middle;\n    }\n\n    .dataframe tbody tr th {\n        vertical-align: top;\n    }\n\n    .dataframe thead th {\n        text-align: right;\n    }\n</style>\n<table border=\"1\" class=\"dataframe\">\n  <thead>\n    <tr style=\"text-align: right;\">\n      <th></th>\n      <th>Language</th>\n      <th>Percentage (%)</th>\n      <th>Number of books</th>\n    </tr>\n  </thead>\n  <tbody>\n    <tr>\n      <th>0</th>\n      <td>English</td>\n      <td>81.32</td>\n      <td>148</td>\n    </tr>\n    <tr>\n      <th>1</th>\n      <td>French</td>\n      <td>7.69</td>\n      <td>14</td>\n    </tr>\n    <tr>\n      <th>2</th>\n      <td>German</td>\n      <td>3.85</td>\n      <td>7</td>\n    </tr>\n    <tr>\n      <th>3</th>\n      <td>Italian</td>\n      <td>3.30</td>\n      <td>6</td>\n    </tr>\n    <tr>\n      <th>4</th>\n      <td>Spanish</td>\n      <td>1.10</td>\n      <td>2</td>\n    </tr>\n    <tr>\n      <th>5</th>\n      <td>Dutch</td>\n      <td>1.10</td>\n      <td>2</td>\n    </tr>\n    <tr>\n      <th>6</th>\n      <td>Greek</td>\n      <td>0.55</td>\n      <td>1</td>\n    </tr>\n    <tr>\n      <th>7</th>\n      <td>Portuguese</td>\n      <td>0.55</td>\n      <td>1</td>\n    </tr>\n    <tr>\n      <th>8</th>\n      <td>Swedish</td>\n      <td>0.55</td>\n      <td>1</td>\n    </tr>\n  </tbody>\n</table>\n</div>",
      "text/plain": "     Language  Percentage (%)  Number of books\n0     English           81.32              148\n1      French            7.69               14\n2      German            3.85                7\n3     Italian            3.30                6\n4     Spanish            1.10                2\n5       Dutch            1.10                2\n6       Greek            0.55                1\n7  Portuguese            0.55                1\n8     Swedish            0.55                1"
     },
     "execution_count": 11,
     "metadata": {},
     "output_type": "execute_result"
    }
   ],
   "source": [
    "create_language_dataframe(Counter(books_by_page_count_group(filtered_results, 20, 29)))"
   ]
  },
  {
   "cell_type": "markdown",
   "metadata": {},
   "source": [
    "### 30-39 pages"
   ]
  },
  {
   "cell_type": "code",
   "execution_count": 12,
   "metadata": {},
   "outputs": [
    {
     "data": {
      "text/html": "<div>\n<style scoped>\n    .dataframe tbody tr th:only-of-type {\n        vertical-align: middle;\n    }\n\n    .dataframe tbody tr th {\n        vertical-align: top;\n    }\n\n    .dataframe thead th {\n        text-align: right;\n    }\n</style>\n<table border=\"1\" class=\"dataframe\">\n  <thead>\n    <tr style=\"text-align: right;\">\n      <th></th>\n      <th>Language</th>\n      <th>Percentage (%)</th>\n      <th>Number of books</th>\n    </tr>\n  </thead>\n  <tbody>\n    <tr>\n      <th>0</th>\n      <td>English</td>\n      <td>82.45</td>\n      <td>155</td>\n    </tr>\n    <tr>\n      <th>1</th>\n      <td>French</td>\n      <td>5.85</td>\n      <td>11</td>\n    </tr>\n    <tr>\n      <th>2</th>\n      <td>German</td>\n      <td>4.79</td>\n      <td>9</td>\n    </tr>\n    <tr>\n      <th>3</th>\n      <td>Spanish</td>\n      <td>2.13</td>\n      <td>4</td>\n    </tr>\n    <tr>\n      <th>4</th>\n      <td>Italian</td>\n      <td>1.60</td>\n      <td>3</td>\n    </tr>\n    <tr>\n      <th>5</th>\n      <td>Dutch</td>\n      <td>1.06</td>\n      <td>2</td>\n    </tr>\n    <tr>\n      <th>6</th>\n      <td>Latin</td>\n      <td>1.06</td>\n      <td>2</td>\n    </tr>\n    <tr>\n      <th>7</th>\n      <td>Portuguese</td>\n      <td>0.53</td>\n      <td>1</td>\n    </tr>\n    <tr>\n      <th>8</th>\n      <td>Russian</td>\n      <td>0.53</td>\n      <td>1</td>\n    </tr>\n  </tbody>\n</table>\n</div>",
      "text/plain": "     Language  Percentage (%)  Number of books\n0     English           82.45              155\n1      French            5.85               11\n2      German            4.79                9\n3     Spanish            2.13                4\n4     Italian            1.60                3\n5       Dutch            1.06                2\n6       Latin            1.06                2\n7  Portuguese            0.53                1\n8     Russian            0.53                1"
     },
     "execution_count": 12,
     "metadata": {},
     "output_type": "execute_result"
    }
   ],
   "source": [
    "create_language_dataframe(Counter(books_by_page_count_group(filtered_results, 30, 39)))"
   ]
  },
  {
   "cell_type": "markdown",
   "metadata": {},
   "source": [
    "### 40-49 pages"
   ]
  },
  {
   "cell_type": "code",
   "execution_count": 13,
   "metadata": {},
   "outputs": [
    {
     "data": {
      "text/html": "<div>\n<style scoped>\n    .dataframe tbody tr th:only-of-type {\n        vertical-align: middle;\n    }\n\n    .dataframe tbody tr th {\n        vertical-align: top;\n    }\n\n    .dataframe thead th {\n        text-align: right;\n    }\n</style>\n<table border=\"1\" class=\"dataframe\">\n  <thead>\n    <tr style=\"text-align: right;\">\n      <th></th>\n      <th>Language</th>\n      <th>Percentage (%)</th>\n      <th>Number of books</th>\n    </tr>\n  </thead>\n  <tbody>\n    <tr>\n      <th>0</th>\n      <td>English</td>\n      <td>84.40</td>\n      <td>119</td>\n    </tr>\n    <tr>\n      <th>1</th>\n      <td>French</td>\n      <td>6.38</td>\n      <td>9</td>\n    </tr>\n    <tr>\n      <th>2</th>\n      <td>German</td>\n      <td>4.26</td>\n      <td>6</td>\n    </tr>\n    <tr>\n      <th>3</th>\n      <td>Italian</td>\n      <td>2.84</td>\n      <td>4</td>\n    </tr>\n    <tr>\n      <th>4</th>\n      <td>Spanish</td>\n      <td>0.71</td>\n      <td>1</td>\n    </tr>\n    <tr>\n      <th>5</th>\n      <td>Swedish</td>\n      <td>0.71</td>\n      <td>1</td>\n    </tr>\n    <tr>\n      <th>6</th>\n      <td>Greek</td>\n      <td>0.71</td>\n      <td>1</td>\n    </tr>\n  </tbody>\n</table>\n</div>",
      "text/plain": "  Language  Percentage (%)  Number of books\n0  English           84.40              119\n1   French            6.38                9\n2   German            4.26                6\n3  Italian            2.84                4\n4  Spanish            0.71                1\n5  Swedish            0.71                1\n6    Greek            0.71                1"
     },
     "execution_count": 13,
     "metadata": {},
     "output_type": "execute_result"
    }
   ],
   "source": [
    "create_language_dataframe(Counter(books_by_page_count_group(filtered_results, 40, 49)))"
   ]
  },
  {
   "cell_type": "markdown",
   "metadata": {},
   "source": [
    "### All other pages"
   ]
  },
  {
   "cell_type": "code",
   "execution_count": 14,
   "metadata": {},
   "outputs": [
    {
     "data": {
      "text/html": "<div>\n<style scoped>\n    .dataframe tbody tr th:only-of-type {\n        vertical-align: middle;\n    }\n\n    .dataframe tbody tr th {\n        vertical-align: top;\n    }\n\n    .dataframe thead th {\n        text-align: right;\n    }\n</style>\n<table border=\"1\" class=\"dataframe\">\n  <thead>\n    <tr style=\"text-align: right;\">\n      <th></th>\n      <th>Language</th>\n      <th>Percentage (%)</th>\n      <th>Number of books</th>\n    </tr>\n  </thead>\n  <tbody>\n    <tr>\n      <th>0</th>\n      <td>English</td>\n      <td>79.68</td>\n      <td>10729</td>\n    </tr>\n    <tr>\n      <th>1</th>\n      <td>French</td>\n      <td>7.23</td>\n      <td>973</td>\n    </tr>\n    <tr>\n      <th>2</th>\n      <td>German</td>\n      <td>5.73</td>\n      <td>771</td>\n    </tr>\n    <tr>\n      <th>3</th>\n      <td>Spanish</td>\n      <td>1.43</td>\n      <td>192</td>\n    </tr>\n    <tr>\n      <th>4</th>\n      <td>Italian</td>\n      <td>1.24</td>\n      <td>167</td>\n    </tr>\n    <tr>\n      <th>5</th>\n      <td>Dutch</td>\n      <td>0.82</td>\n      <td>110</td>\n    </tr>\n    <tr>\n      <th>6</th>\n      <td>Hungarian</td>\n      <td>0.72</td>\n      <td>97</td>\n    </tr>\n    <tr>\n      <th>7</th>\n      <td>Russian</td>\n      <td>0.68</td>\n      <td>92</td>\n    </tr>\n    <tr>\n      <th>8</th>\n      <td>Danish</td>\n      <td>0.60</td>\n      <td>81</td>\n    </tr>\n    <tr>\n      <th>9</th>\n      <td>Swedish</td>\n      <td>0.55</td>\n      <td>74</td>\n    </tr>\n    <tr>\n      <th>10</th>\n      <td>Portuguese</td>\n      <td>0.30</td>\n      <td>40</td>\n    </tr>\n    <tr>\n      <th>11</th>\n      <td>Polish</td>\n      <td>0.27</td>\n      <td>36</td>\n    </tr>\n    <tr>\n      <th>12</th>\n      <td>Czech</td>\n      <td>0.23</td>\n      <td>31</td>\n    </tr>\n    <tr>\n      <th>13</th>\n      <td>Latin</td>\n      <td>0.16</td>\n      <td>21</td>\n    </tr>\n    <tr>\n      <th>14</th>\n      <td>Catalan</td>\n      <td>0.12</td>\n      <td>16</td>\n    </tr>\n    <tr>\n      <th>15</th>\n      <td>Greek</td>\n      <td>0.07</td>\n      <td>10</td>\n    </tr>\n    <tr>\n      <th>16</th>\n      <td>Serbian</td>\n      <td>0.04</td>\n      <td>6</td>\n    </tr>\n    <tr>\n      <th>17</th>\n      <td>Lithuanian</td>\n      <td>0.04</td>\n      <td>5</td>\n    </tr>\n    <tr>\n      <th>18</th>\n      <td>Welsh</td>\n      <td>0.03</td>\n      <td>4</td>\n    </tr>\n    <tr>\n      <th>19</th>\n      <td>Bulgarian</td>\n      <td>0.03</td>\n      <td>4</td>\n    </tr>\n    <tr>\n      <th>20</th>\n      <td>Finnish</td>\n      <td>0.01</td>\n      <td>2</td>\n    </tr>\n    <tr>\n      <th>21</th>\n      <td>Romanian</td>\n      <td>0.01</td>\n      <td>2</td>\n    </tr>\n    <tr>\n      <th>22</th>\n      <td>Croatian</td>\n      <td>0.01</td>\n      <td>1</td>\n    </tr>\n    <tr>\n      <th>23</th>\n      <td>Ukrainian</td>\n      <td>0.01</td>\n      <td>1</td>\n    </tr>\n  </tbody>\n</table>\n</div>",
      "text/plain": "      Language  Percentage (%)  Number of books\n0      English           79.68            10729\n1       French            7.23              973\n2       German            5.73              771\n3      Spanish            1.43              192\n4      Italian            1.24              167\n5        Dutch            0.82              110\n6    Hungarian            0.72               97\n7      Russian            0.68               92\n8       Danish            0.60               81\n9      Swedish            0.55               74\n10  Portuguese            0.30               40\n11      Polish            0.27               36\n12       Czech            0.23               31\n13       Latin            0.16               21\n14     Catalan            0.12               16\n15       Greek            0.07               10\n16     Serbian            0.04                6\n17  Lithuanian            0.04                5\n18       Welsh            0.03                4\n19   Bulgarian            0.03                4\n20     Finnish            0.01                2\n21    Romanian            0.01                2\n22    Croatian            0.01                1\n23   Ukrainian            0.01                1"
     },
     "execution_count": 14,
     "metadata": {},
     "output_type": "execute_result"
    }
   ],
   "source": [
    "create_language_dataframe(Counter(books_by_page_count_group(results, 50, 2000)))"
   ]
  },
  {
   "cell_type": "markdown",
   "metadata": {},
   "source": [
    "### Conclusion of page length affecting language identification\n",
    "\n",
    "We can see that the language idenitifcation distribution does not change much when we compare books that have 50 pages or more to those with less. Even in the extreme case of less than 10 pages the most common language is English and the second most common is French, which is what we see in the results of those books with more than 50 pages. However with fewer pages there does seem to be more books that are English. Lastly this type of analysis does not determine that the language identification model is more accurate on fewer page it just shows that there is nothing abnormal occuring in books with fewer pages such as OCR errors on the title and index pages (which might make up a larger percentage of the book) affecting the language idenitification result. "
   ]
  }
 ],
 "metadata": {
  "kernelspec": {
   "display_name": "Python 3.8.10 64-bit ('bl-books': conda)",
   "name": "python3810jvsc74a57bd0b3d4264fbdecd6096f3200980ee3a57cab4696b1f146aef46fc523411436b83b"
  },
  "language_info": {
   "codemirror_mode": {
    "name": "ipython",
    "version": 3
   },
   "file_extension": ".py",
   "mimetype": "text/x-python",
   "name": "python",
   "nbconvert_exporter": "python",
   "pygments_lexer": "ipython3",
   "version": "3.8.10"
  },
  "metadata": {
   "interpreter": {
    "hash": "b3d4264fbdecd6096f3200980ee3a57cab4696b1f146aef46fc523411436b83b"
   }
  },
  "orig_nbformat": 2
 },
 "nbformat": 4,
 "nbformat_minor": 2
}