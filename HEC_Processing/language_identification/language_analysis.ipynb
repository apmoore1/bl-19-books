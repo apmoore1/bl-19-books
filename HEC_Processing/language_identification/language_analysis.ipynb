{
 "cells": [
  {
   "cell_type": "code",
   "execution_count": 1,
   "metadata": {},
   "outputs": [],
   "source": [
    "from collections import Counter\n",
    "import json\n",
    "from pathlib import Path\n",
    "from typing import List, Dict, Any\n",
    "\n",
    "import pandas as pd"
   ]
  },
  {
   "cell_type": "markdown",
   "metadata": {},
   "source": [
    "# Language Analysis results for all British Library books\n",
    "\n",
    "In this notebook we hope to answer the following:\n",
    "\n",
    "1. What is the distribution of languages that the book's were written in?\n",
    "2. Are there any books whose volume have different languages? \n",
    "3. What is the distribution and average page length of these books? For all pages that contain text, some books contain no pages that have text only pages that contain maps. In cases where the book contains pages with no text the page length will be zero.\n",
    "4. Does the number of pages change the distribution of languages?\n",
    "\n",
    "## Distribution of languages in the books"
   ]
  },
  {
   "cell_type": "code",
   "execution_count": 2,
   "metadata": {},
   "outputs": [
    {
     "name": "stdout",
     "output_type": "stream",
     "text": [
      "Number of books that have been processed: 63984\n"
     ]
    },
    {
     "data": {
      "text/html": "<div>\n<style scoped>\n    .dataframe tbody tr th:only-of-type {\n        vertical-align: middle;\n    }\n\n    .dataframe tbody tr th {\n        vertical-align: top;\n    }\n\n    .dataframe thead th {\n        text-align: right;\n    }\n</style>\n<table border=\"1\" class=\"dataframe\">\n  <thead>\n    <tr style=\"text-align: right;\">\n      <th></th>\n      <th>Language</th>\n      <th>Percentage (%)</th>\n      <th>Number of books</th>\n    </tr>\n  </thead>\n  <tbody>\n    <tr>\n      <th>0</th>\n      <td>English</td>\n      <td>76.53</td>\n      <td>48968</td>\n    </tr>\n    <tr>\n      <th>1</th>\n      <td>French</td>\n      <td>8.20</td>\n      <td>5244</td>\n    </tr>\n    <tr>\n      <th>2</th>\n      <td>German</td>\n      <td>6.68</td>\n      <td>4277</td>\n    </tr>\n    <tr>\n      <th>3</th>\n      <td>Spanish</td>\n      <td>1.48</td>\n      <td>948</td>\n    </tr>\n    <tr>\n      <th>4</th>\n      <td>Italian</td>\n      <td>1.37</td>\n      <td>874</td>\n    </tr>\n    <tr>\n      <th>5</th>\n      <td>Dutch</td>\n      <td>1.30</td>\n      <td>832</td>\n    </tr>\n    <tr>\n      <th>6</th>\n      <td>Russian</td>\n      <td>1.25</td>\n      <td>800</td>\n    </tr>\n    <tr>\n      <th>7</th>\n      <td>Hungarian</td>\n      <td>0.61</td>\n      <td>392</td>\n    </tr>\n    <tr>\n      <th>8</th>\n      <td>Swedish</td>\n      <td>0.58</td>\n      <td>369</td>\n    </tr>\n    <tr>\n      <th>9</th>\n      <td>Danish</td>\n      <td>0.54</td>\n      <td>343</td>\n    </tr>\n    <tr>\n      <th>10</th>\n      <td>Latin</td>\n      <td>0.38</td>\n      <td>240</td>\n    </tr>\n    <tr>\n      <th>11</th>\n      <td>Polish</td>\n      <td>0.37</td>\n      <td>238</td>\n    </tr>\n    <tr>\n      <th>12</th>\n      <td>Portuguese</td>\n      <td>0.28</td>\n      <td>179</td>\n    </tr>\n    <tr>\n      <th>13</th>\n      <td>Greek</td>\n      <td>0.14</td>\n      <td>89</td>\n    </tr>\n    <tr>\n      <th>14</th>\n      <td>Czech</td>\n      <td>0.12</td>\n      <td>79</td>\n    </tr>\n    <tr>\n      <th>15</th>\n      <td>Catalan</td>\n      <td>0.03</td>\n      <td>18</td>\n    </tr>\n    <tr>\n      <th>16</th>\n      <td>Finnish</td>\n      <td>0.02</td>\n      <td>15</td>\n    </tr>\n    <tr>\n      <th>17</th>\n      <td>Welsh</td>\n      <td>0.02</td>\n      <td>13</td>\n    </tr>\n    <tr>\n      <th>18</th>\n      <td>Ukrainian</td>\n      <td>0.02</td>\n      <td>12</td>\n    </tr>\n    <tr>\n      <th>19</th>\n      <td>Serbian</td>\n      <td>0.02</td>\n      <td>12</td>\n    </tr>\n    <tr>\n      <th>20</th>\n      <td>Romanian</td>\n      <td>0.01</td>\n      <td>9</td>\n    </tr>\n    <tr>\n      <th>21</th>\n      <td>Bulgarian</td>\n      <td>0.01</td>\n      <td>7</td>\n    </tr>\n    <tr>\n      <th>22</th>\n      <td>Lithuanian</td>\n      <td>0.01</td>\n      <td>5</td>\n    </tr>\n    <tr>\n      <th>23</th>\n      <td>Icelandic</td>\n      <td>0.01</td>\n      <td>5</td>\n    </tr>\n    <tr>\n      <th>24</th>\n      <td>Croatian</td>\n      <td>0.00</td>\n      <td>3</td>\n    </tr>\n    <tr>\n      <th>25</th>\n      <td>None</td>\n      <td>0.00</td>\n      <td>3</td>\n    </tr>\n    <tr>\n      <th>26</th>\n      <td>Estonian</td>\n      <td>0.00</td>\n      <td>2</td>\n    </tr>\n    <tr>\n      <th>27</th>\n      <td>Slovenian</td>\n      <td>0.00</td>\n      <td>2</td>\n    </tr>\n    <tr>\n      <th>28</th>\n      <td>Norwegian Bokmål</td>\n      <td>0.00</td>\n      <td>1</td>\n    </tr>\n    <tr>\n      <th>29</th>\n      <td>Chinese</td>\n      <td>0.00</td>\n      <td>1</td>\n    </tr>\n    <tr>\n      <th>30</th>\n      <td>Slovak</td>\n      <td>0.00</td>\n      <td>1</td>\n    </tr>\n    <tr>\n      <th>31</th>\n      <td>Malagasy</td>\n      <td>0.00</td>\n      <td>1</td>\n    </tr>\n    <tr>\n      <th>32</th>\n      <td>Galician</td>\n      <td>0.00</td>\n      <td>1</td>\n    </tr>\n    <tr>\n      <th>33</th>\n      <td>Japanese</td>\n      <td>0.00</td>\n      <td>1</td>\n    </tr>\n  </tbody>\n</table>\n</div>",
      "text/plain": "            Language  Percentage (%)  Number of books\n0            English           76.53            48968\n1             French            8.20             5244\n2             German            6.68             4277\n3            Spanish            1.48              948\n4            Italian            1.37              874\n5              Dutch            1.30              832\n6            Russian            1.25              800\n7          Hungarian            0.61              392\n8            Swedish            0.58              369\n9             Danish            0.54              343\n10             Latin            0.38              240\n11            Polish            0.37              238\n12        Portuguese            0.28              179\n13             Greek            0.14               89\n14             Czech            0.12               79\n15           Catalan            0.03               18\n16           Finnish            0.02               15\n17             Welsh            0.02               13\n18         Ukrainian            0.02               12\n19           Serbian            0.02               12\n20          Romanian            0.01                9\n21         Bulgarian            0.01                7\n22        Lithuanian            0.01                5\n23         Icelandic            0.01                5\n24          Croatian            0.00                3\n25              None            0.00                3\n26          Estonian            0.00                2\n27         Slovenian            0.00                2\n28  Norwegian Bokmål            0.00                1\n29           Chinese            0.00                1\n30            Slovak            0.00                1\n31          Malagasy            0.00                1\n32          Galician            0.00                1\n33          Japanese            0.00                1"
     },
     "execution_count": 2,
     "metadata": {},
     "output_type": "execute_result"
    }
   ],
   "source": [
    "def create_language_dataframe(language_count: Dict[str, str]) -> pd.DataFrame:\n",
    "    '''\n",
    "    :param language_count: A dictionary where the keys are language names and \n",
    "                           the values are the number of times the language \n",
    "                           has occured.\n",
    "    :returns: A dataframe with three columns: `Language`, `Percentage (%)`, and \n",
    "              3. `Number of books`. Whereby this describes the number of \n",
    "              books that are in that language and the percentage of all books \n",
    "              that are in that language.\n",
    "    '''\n",
    "    total_language_count = sum(language_count.values())\n",
    "    normalised_language_count = {key: (value / total_language_count) * 100 \n",
    "                             for key, value in language_count.items()}\n",
    "    language_count_data = {\"Language\": [], \"Percentage (%)\": [], \n",
    "                        \"Number of books\": []}\n",
    "    for language, percentage in normalised_language_count.items():\n",
    "        language_count_data['Language'].append(language)\n",
    "        language_count_data['Percentage (%)'].append(round(percentage, 2))\n",
    "        language_count_data['Number of books'].append(language_count[language])\n",
    "    language_count_data_df = pd.DataFrame(language_count_data)\n",
    "    return language_count_data_df.sort_values('Number of books', ascending=False, \n",
    "                                              ignore_index=True)\n",
    "    \n",
    "\n",
    "\n",
    "# import the language id results\n",
    "language_id_results_path = Path('.', 'language_results.json').resolve()\n",
    "results: List[Dict[str, Any]] = []\n",
    "language_count = Counter()\n",
    "with language_id_results_path.open('r') as results_fp:\n",
    "    for line in results_fp:\n",
    "        line = line.strip()\n",
    "        if line:\n",
    "            result = json.loads(line)\n",
    "            results.append(result)\n",
    "            language_count.update([result['language']])\n",
    "number_books_processed = len(results)\n",
    "print(f'Number of books that have been processed: {number_books_processed}')\n",
    "create_language_dataframe(language_count)"
   ]
  },
  {
   "cell_type": "markdown",
   "metadata": {},
   "source": [
    "As we can see from the results above, the majority of the books are English, but ~23% of the books are in another language, of which French is the second highest with 8.20% of the books. **Note** we can also see that 3 of the books have a language of `None`, which means that those books did not have any text.\n",
    "\n",
    "## Do any of the books have volumes that are in different identified languages?"
   ]
  },
  {
   "cell_type": "code",
   "execution_count": 3,
   "metadata": {},
   "outputs": [
    {
     "data": {
      "text/html": "<div>\n<style scoped>\n    .dataframe tbody tr th:only-of-type {\n        vertical-align: middle;\n    }\n\n    .dataframe tbody tr th {\n        vertical-align: top;\n    }\n\n    .dataframe thead th {\n        text-align: right;\n    }\n</style>\n<table border=\"1\" class=\"dataframe\">\n  <thead>\n    <tr style=\"text-align: right;\">\n      <th></th>\n      <th>Language</th>\n      <th>Volume</th>\n    </tr>\n    <tr>\n      <th>Identifier</th>\n      <th></th>\n      <th></th>\n    </tr>\n  </thead>\n  <tbody>\n    <tr>\n      <th>000097249</th>\n      <td>2</td>\n      <td>2</td>\n    </tr>\n    <tr>\n      <th>001931087</th>\n      <td>2</td>\n      <td>2</td>\n    </tr>\n    <tr>\n      <th>002046329</th>\n      <td>2</td>\n      <td>3</td>\n    </tr>\n    <tr>\n      <th>002069803</th>\n      <td>2</td>\n      <td>15</td>\n    </tr>\n    <tr>\n      <th>002377189</th>\n      <td>2</td>\n      <td>2</td>\n    </tr>\n    <tr>\n      <th>...</th>\n      <td>...</td>\n      <td>...</td>\n    </tr>\n    <tr>\n      <th>001401151</th>\n      <td>2</td>\n      <td>3</td>\n    </tr>\n    <tr>\n      <th>001427051</th>\n      <td>3</td>\n      <td>11</td>\n    </tr>\n    <tr>\n      <th>003508992</th>\n      <td>3</td>\n      <td>3</td>\n    </tr>\n    <tr>\n      <th>003156564</th>\n      <td>3</td>\n      <td>4</td>\n    </tr>\n    <tr>\n      <th>003147867</th>\n      <td>3</td>\n      <td>9</td>\n    </tr>\n  </tbody>\n</table>\n<p>69 rows × 2 columns</p>\n</div>",
      "text/plain": "            Language  Volume\nIdentifier                  \n000097249          2       2\n001931087          2       2\n002046329          2       3\n002069803          2      15\n002377189          2       2\n...              ...     ...\n001401151          2       3\n001427051          3      11\n003508992          3       3\n003156564          3       4\n003147867          3       9\n\n[69 rows x 2 columns]"
     },
     "execution_count": 3,
     "metadata": {},
     "output_type": "execute_result"
    }
   ],
   "source": [
    "book_identifiers: List[str] = []\n",
    "book_volumes: List[str] = []\n",
    "languages: List[str] = []\n",
    "\n",
    "for result in results:\n",
    "    languages.append(result['language'])\n",
    "    file_name = result['filename']\n",
    "    identifier, volumne = file_name.split('_')[:2]\n",
    "    book_identifiers.append(identifier)\n",
    "    book_volumes.append(volumne)\n",
    "volume_language_book_df = pd.DataFrame({'Language': languages, \n",
    "                                        'Identifier': book_identifiers, \n",
    "                                        'Volume': book_volumes})\n",
    "volume_language_book_df = volume_language_book_df.groupby('Identifier').nunique()\n",
    "volume_language_book_df[volume_language_book_df['Language'] > 1].sort_values('Language')"
   ]
  },
  {
   "cell_type": "markdown",
   "metadata": {},
   "source": [
    "As we can see, there are 69 books that have volumes that have more than one identified language. Some of the books have at least 3 different languages identified based on their volumes."
   ]
  },
  {
   "cell_type": "markdown",
   "metadata": {},
   "source": [
    "## Distribution and average page length of the books\n",
    "\n",
    "In these distribution statistics we do not count pages that contain no text, any books that contain no textual pages will be removed from the statistics."
   ]
  },
  {
   "cell_type": "code",
   "execution_count": 4,
   "metadata": {},
   "outputs": [
    {
     "data": {
      "text/html": "<div>\n<style scoped>\n    .dataframe tbody tr th:only-of-type {\n        vertical-align: middle;\n    }\n\n    .dataframe tbody tr th {\n        vertical-align: top;\n    }\n\n    .dataframe thead th {\n        text-align: right;\n    }\n</style>\n<table border=\"1\" class=\"dataframe\">\n  <thead>\n    <tr style=\"text-align: right;\">\n      <th>Number pages</th>\n      <th>0</th>\n      <th>10</th>\n      <th>20</th>\n      <th>30</th>\n      <th>40</th>\n      <th>50</th>\n      <th>60</th>\n      <th>70</th>\n      <th>80</th>\n      <th>90</th>\n      <th>100</th>\n      <th>110</th>\n      <th>120</th>\n      <th>130</th>\n      <th>140</th>\n      <th>150</th>\n      <th>160</th>\n      <th>170</th>\n      <th>180</th>\n      <th>190</th>\n      <th>200</th>\n      <th>210</th>\n      <th>220</th>\n      <th>230</th>\n      <th>240</th>\n      <th>250</th>\n      <th>260</th>\n      <th>270</th>\n      <th>280</th>\n      <th>290</th>\n      <th>300</th>\n      <th>310</th>\n      <th>320</th>\n      <th>330</th>\n      <th>340</th>\n      <th>350</th>\n      <th>360</th>\n      <th>370</th>\n      <th>380</th>\n      <th>390</th>\n      <th>400</th>\n      <th>410</th>\n      <th>420</th>\n      <th>430</th>\n      <th>440</th>\n      <th>450</th>\n      <th>460</th>\n      <th>470</th>\n      <th>480</th>\n      <th>490</th>\n      <th>500</th>\n      <th>510</th>\n      <th>520</th>\n      <th>530</th>\n      <th>540</th>\n      <th>550</th>\n      <th>560</th>\n      <th>570</th>\n      <th>580</th>\n      <th>590</th>\n      <th>600</th>\n      <th>610</th>\n      <th>620</th>\n      <th>630</th>\n      <th>640</th>\n      <th>650</th>\n      <th>660</th>\n      <th>670</th>\n      <th>680</th>\n      <th>690</th>\n      <th>700</th>\n      <th>710</th>\n      <th>720</th>\n      <th>730</th>\n      <th>740</th>\n      <th>750</th>\n      <th>760</th>\n      <th>770</th>\n      <th>780</th>\n      <th>790</th>\n      <th>800</th>\n      <th>810</th>\n      <th>820</th>\n      <th>830</th>\n      <th>840</th>\n      <th>850</th>\n      <th>860</th>\n      <th>870</th>\n      <th>880</th>\n      <th>890</th>\n      <th>900</th>\n      <th>910</th>\n      <th>920</th>\n      <th>930</th>\n      <th>940</th>\n      <th>950</th>\n      <th>960</th>\n      <th>970</th>\n      <th>980</th>\n      <th>990</th>\n      <th>1000</th>\n      <th>1010</th>\n      <th>1020</th>\n      <th>1030</th>\n      <th>1040</th>\n      <th>1050</th>\n      <th>1060</th>\n      <th>1070</th>\n      <th>1080</th>\n      <th>1090</th>\n      <th>1100</th>\n      <th>1110</th>\n      <th>1120</th>\n      <th>1130</th>\n      <th>1140</th>\n      <th>1150</th>\n      <th>1160</th>\n      <th>1170</th>\n      <th>1180</th>\n      <th>1190</th>\n      <th>1200</th>\n      <th>1210</th>\n      <th>1220</th>\n      <th>1230</th>\n      <th>1240</th>\n      <th>1250</th>\n      <th>1260</th>\n      <th>1270</th>\n      <th>1280</th>\n      <th>1290</th>\n      <th>1300</th>\n      <th>1310</th>\n      <th>1320</th>\n      <th>1330</th>\n      <th>1340</th>\n      <th>1350</th>\n      <th>1360</th>\n      <th>1370</th>\n      <th>1380</th>\n      <th>1390</th>\n      <th>1400</th>\n      <th>1410</th>\n      <th>1420</th>\n      <th>1430</th>\n      <th>1440</th>\n      <th>1450</th>\n      <th>1460</th>\n      <th>1470</th>\n      <th>1480</th>\n      <th>1490</th>\n      <th>1500</th>\n      <th>1510</th>\n      <th>1520</th>\n      <th>1530</th>\n      <th>1540</th>\n      <th>1550</th>\n      <th>1560</th>\n      <th>1570</th>\n      <th>1580</th>\n      <th>1590</th>\n      <th>1600</th>\n      <th>1620</th>\n      <th>1640</th>\n      <th>1650</th>\n      <th>1670</th>\n      <th>1680</th>\n      <th>1690</th>\n      <th>1730</th>\n      <th>1740</th>\n      <th>1760</th>\n      <th>1770</th>\n      <th>1790</th>\n      <th>1820</th>\n      <th>1830</th>\n      <th>1910</th>\n      <th>1940</th>\n      <th>2170</th>\n    </tr>\n  </thead>\n  <tbody>\n    <tr>\n      <th>Count</th>\n      <td>788.00</td>\n      <td>1626.00</td>\n      <td>1519.00</td>\n      <td>1360.00</td>\n      <td>1135.00</td>\n      <td>1032.00</td>\n      <td>1099.00</td>\n      <td>1096.00</td>\n      <td>947.00</td>\n      <td>894.00</td>\n      <td>855.00</td>\n      <td>757.00</td>\n      <td>832.00</td>\n      <td>786.00</td>\n      <td>687.00</td>\n      <td>748.00</td>\n      <td>701.00</td>\n      <td>679.00</td>\n      <td>714.00</td>\n      <td>751.00</td>\n      <td>737.00</td>\n      <td>764.00</td>\n      <td>819.00</td>\n      <td>932.00</td>\n      <td>1027.00</td>\n      <td>1300.00</td>\n      <td>1218.00</td>\n      <td>1512.00</td>\n      <td>1671.00</td>\n      <td>1999.00</td>\n      <td>2270.00</td>\n      <td>2435.00</td>\n      <td>1811.00</td>\n      <td>1554.00</td>\n      <td>1242.00</td>\n      <td>1243.00</td>\n      <td>1026.00</td>\n      <td>904.00</td>\n      <td>945.00</td>\n      <td>898.0</td>\n      <td>820.00</td>\n      <td>842.00</td>\n      <td>796.00</td>\n      <td>759.00</td>\n      <td>762.00</td>\n      <td>674.00</td>\n      <td>654.00</td>\n      <td>673.00</td>\n      <td>651.00</td>\n      <td>612.00</td>\n      <td>537.00</td>\n      <td>566.00</td>\n      <td>512.00</td>\n      <td>491.00</td>\n      <td>434.00</td>\n      <td>378.00</td>\n      <td>378.00</td>\n      <td>387.00</td>\n      <td>345.00</td>\n      <td>389.00</td>\n      <td>294.00</td>\n      <td>305.00</td>\n      <td>295.00</td>\n      <td>301.00</td>\n      <td>299.00</td>\n      <td>272.00</td>\n      <td>241.00</td>\n      <td>253.00</td>\n      <td>243.00</td>\n      <td>207.00</td>\n      <td>176.00</td>\n      <td>175.00</td>\n      <td>163.00</td>\n      <td>149.00</td>\n      <td>125.0</td>\n      <td>132.00</td>\n      <td>137.00</td>\n      <td>137.00</td>\n      <td>127.00</td>\n      <td>139.00</td>\n      <td>138.00</td>\n      <td>170.00</td>\n      <td>128.00</td>\n      <td>125.00</td>\n      <td>110.00</td>\n      <td>114.00</td>\n      <td>95.00</td>\n      <td>99.00</td>\n      <td>82.00</td>\n      <td>99.00</td>\n      <td>76.00</td>\n      <td>92.00</td>\n      <td>86.00</td>\n      <td>81.00</td>\n      <td>87.00</td>\n      <td>87.00</td>\n      <td>77.00</td>\n      <td>59.00</td>\n      <td>53.00</td>\n      <td>54.00</td>\n      <td>59.00</td>\n      <td>63.00</td>\n      <td>44.00</td>\n      <td>46.00</td>\n      <td>44.00</td>\n      <td>37.00</td>\n      <td>37.00</td>\n      <td>36.00</td>\n      <td>46.00</td>\n      <td>34.00</td>\n      <td>30.00</td>\n      <td>25.00</td>\n      <td>26.00</td>\n      <td>25.00</td>\n      <td>25.00</td>\n      <td>18.00</td>\n      <td>21.00</td>\n      <td>18.00</td>\n      <td>11.00</td>\n      <td>21.00</td>\n      <td>15.00</td>\n      <td>20.00</td>\n      <td>15.00</td>\n      <td>9.00</td>\n      <td>12.00</td>\n      <td>10.00</td>\n      <td>15.00</td>\n      <td>16.00</td>\n      <td>7.00</td>\n      <td>10.00</td>\n      <td>5.00</td>\n      <td>6.00</td>\n      <td>1.00</td>\n      <td>6.00</td>\n      <td>6.00</td>\n      <td>5.00</td>\n      <td>4.00</td>\n      <td>4.00</td>\n      <td>6.00</td>\n      <td>5.00</td>\n      <td>4.00</td>\n      <td>3.00</td>\n      <td>6.00</td>\n      <td>3.0</td>\n      <td>2.0</td>\n      <td>6.00</td>\n      <td>3.00</td>\n      <td>3.00</td>\n      <td>3.00</td>\n      <td>5.00</td>\n      <td>1.00</td>\n      <td>2.00</td>\n      <td>4.00</td>\n      <td>3.00</td>\n      <td>2.00</td>\n      <td>2.00</td>\n      <td>4.00</td>\n      <td>2.00</td>\n      <td>1.00</td>\n      <td>2.00</td>\n      <td>3.00</td>\n      <td>1.00</td>\n      <td>1.00</td>\n      <td>2.00</td>\n      <td>1.00</td>\n      <td>1.00</td>\n      <td>2.00</td>\n      <td>1.00</td>\n      <td>2.00</td>\n      <td>1.00</td>\n      <td>1.00</td>\n      <td>1.00</td>\n      <td>1.00</td>\n      <td>1.00</td>\n      <td>1.00</td>\n      <td>1.00</td>\n      <td>1.00</td>\n    </tr>\n    <tr>\n      <th>Percentage (%)</th>\n      <td>1.23</td>\n      <td>2.54</td>\n      <td>2.37</td>\n      <td>2.13</td>\n      <td>1.77</td>\n      <td>1.61</td>\n      <td>1.72</td>\n      <td>1.71</td>\n      <td>1.48</td>\n      <td>1.40</td>\n      <td>1.34</td>\n      <td>1.18</td>\n      <td>1.30</td>\n      <td>1.23</td>\n      <td>1.07</td>\n      <td>1.17</td>\n      <td>1.10</td>\n      <td>1.06</td>\n      <td>1.12</td>\n      <td>1.17</td>\n      <td>1.15</td>\n      <td>1.19</td>\n      <td>1.28</td>\n      <td>1.46</td>\n      <td>1.61</td>\n      <td>2.03</td>\n      <td>1.90</td>\n      <td>2.36</td>\n      <td>2.61</td>\n      <td>3.12</td>\n      <td>3.55</td>\n      <td>3.81</td>\n      <td>2.83</td>\n      <td>2.43</td>\n      <td>1.94</td>\n      <td>1.94</td>\n      <td>1.60</td>\n      <td>1.41</td>\n      <td>1.48</td>\n      <td>1.4</td>\n      <td>1.28</td>\n      <td>1.32</td>\n      <td>1.24</td>\n      <td>1.19</td>\n      <td>1.19</td>\n      <td>1.05</td>\n      <td>1.02</td>\n      <td>1.05</td>\n      <td>1.02</td>\n      <td>0.96</td>\n      <td>0.84</td>\n      <td>0.88</td>\n      <td>0.80</td>\n      <td>0.77</td>\n      <td>0.68</td>\n      <td>0.59</td>\n      <td>0.59</td>\n      <td>0.60</td>\n      <td>0.54</td>\n      <td>0.61</td>\n      <td>0.46</td>\n      <td>0.48</td>\n      <td>0.46</td>\n      <td>0.47</td>\n      <td>0.47</td>\n      <td>0.43</td>\n      <td>0.38</td>\n      <td>0.40</td>\n      <td>0.38</td>\n      <td>0.32</td>\n      <td>0.28</td>\n      <td>0.27</td>\n      <td>0.25</td>\n      <td>0.23</td>\n      <td>0.2</td>\n      <td>0.21</td>\n      <td>0.21</td>\n      <td>0.21</td>\n      <td>0.20</td>\n      <td>0.22</td>\n      <td>0.22</td>\n      <td>0.27</td>\n      <td>0.20</td>\n      <td>0.20</td>\n      <td>0.17</td>\n      <td>0.18</td>\n      <td>0.15</td>\n      <td>0.15</td>\n      <td>0.13</td>\n      <td>0.15</td>\n      <td>0.12</td>\n      <td>0.14</td>\n      <td>0.13</td>\n      <td>0.13</td>\n      <td>0.14</td>\n      <td>0.14</td>\n      <td>0.12</td>\n      <td>0.09</td>\n      <td>0.08</td>\n      <td>0.08</td>\n      <td>0.09</td>\n      <td>0.10</td>\n      <td>0.07</td>\n      <td>0.07</td>\n      <td>0.07</td>\n      <td>0.06</td>\n      <td>0.06</td>\n      <td>0.06</td>\n      <td>0.07</td>\n      <td>0.05</td>\n      <td>0.05</td>\n      <td>0.04</td>\n      <td>0.04</td>\n      <td>0.04</td>\n      <td>0.04</td>\n      <td>0.03</td>\n      <td>0.03</td>\n      <td>0.03</td>\n      <td>0.02</td>\n      <td>0.03</td>\n      <td>0.02</td>\n      <td>0.03</td>\n      <td>0.02</td>\n      <td>0.01</td>\n      <td>0.02</td>\n      <td>0.02</td>\n      <td>0.02</td>\n      <td>0.03</td>\n      <td>0.01</td>\n      <td>0.02</td>\n      <td>0.01</td>\n      <td>0.01</td>\n      <td>0.00</td>\n      <td>0.01</td>\n      <td>0.01</td>\n      <td>0.01</td>\n      <td>0.01</td>\n      <td>0.01</td>\n      <td>0.01</td>\n      <td>0.01</td>\n      <td>0.01</td>\n      <td>0.00</td>\n      <td>0.01</td>\n      <td>0.0</td>\n      <td>0.0</td>\n      <td>0.01</td>\n      <td>0.00</td>\n      <td>0.00</td>\n      <td>0.00</td>\n      <td>0.01</td>\n      <td>0.00</td>\n      <td>0.00</td>\n      <td>0.01</td>\n      <td>0.00</td>\n      <td>0.00</td>\n      <td>0.00</td>\n      <td>0.01</td>\n      <td>0.00</td>\n      <td>0.00</td>\n      <td>0.00</td>\n      <td>0.00</td>\n      <td>0.00</td>\n      <td>0.00</td>\n      <td>0.00</td>\n      <td>0.00</td>\n      <td>0.00</td>\n      <td>0.00</td>\n      <td>0.00</td>\n      <td>0.00</td>\n      <td>0.00</td>\n      <td>0.00</td>\n      <td>0.00</td>\n      <td>0.00</td>\n      <td>0.00</td>\n      <td>0.00</td>\n      <td>0.00</td>\n      <td>0.00</td>\n    </tr>\n    <tr>\n      <th>Cumulative Percentage (%)</th>\n      <td>1.23</td>\n      <td>3.77</td>\n      <td>6.14</td>\n      <td>8.27</td>\n      <td>10.04</td>\n      <td>11.65</td>\n      <td>13.37</td>\n      <td>15.08</td>\n      <td>16.56</td>\n      <td>17.96</td>\n      <td>19.30</td>\n      <td>20.48</td>\n      <td>21.78</td>\n      <td>23.01</td>\n      <td>24.08</td>\n      <td>25.25</td>\n      <td>26.35</td>\n      <td>27.41</td>\n      <td>28.53</td>\n      <td>29.70</td>\n      <td>30.85</td>\n      <td>32.04</td>\n      <td>33.32</td>\n      <td>34.78</td>\n      <td>36.39</td>\n      <td>38.42</td>\n      <td>40.32</td>\n      <td>42.68</td>\n      <td>45.29</td>\n      <td>48.41</td>\n      <td>51.96</td>\n      <td>55.77</td>\n      <td>58.60</td>\n      <td>61.03</td>\n      <td>62.97</td>\n      <td>64.91</td>\n      <td>66.51</td>\n      <td>67.92</td>\n      <td>69.40</td>\n      <td>70.8</td>\n      <td>72.08</td>\n      <td>73.40</td>\n      <td>74.64</td>\n      <td>75.83</td>\n      <td>77.02</td>\n      <td>78.07</td>\n      <td>79.09</td>\n      <td>80.14</td>\n      <td>81.16</td>\n      <td>82.12</td>\n      <td>82.96</td>\n      <td>83.84</td>\n      <td>84.64</td>\n      <td>85.41</td>\n      <td>86.09</td>\n      <td>86.68</td>\n      <td>87.27</td>\n      <td>87.87</td>\n      <td>88.41</td>\n      <td>89.02</td>\n      <td>89.48</td>\n      <td>89.96</td>\n      <td>90.42</td>\n      <td>90.89</td>\n      <td>91.36</td>\n      <td>91.79</td>\n      <td>92.17</td>\n      <td>92.57</td>\n      <td>92.95</td>\n      <td>93.27</td>\n      <td>93.55</td>\n      <td>93.82</td>\n      <td>94.07</td>\n      <td>94.30</td>\n      <td>94.5</td>\n      <td>94.71</td>\n      <td>94.92</td>\n      <td>95.13</td>\n      <td>95.33</td>\n      <td>95.55</td>\n      <td>95.77</td>\n      <td>96.04</td>\n      <td>96.24</td>\n      <td>96.44</td>\n      <td>96.61</td>\n      <td>96.79</td>\n      <td>96.94</td>\n      <td>97.09</td>\n      <td>97.22</td>\n      <td>97.37</td>\n      <td>97.49</td>\n      <td>97.63</td>\n      <td>97.76</td>\n      <td>97.89</td>\n      <td>98.03</td>\n      <td>98.17</td>\n      <td>98.29</td>\n      <td>98.38</td>\n      <td>98.46</td>\n      <td>98.54</td>\n      <td>98.63</td>\n      <td>98.73</td>\n      <td>98.80</td>\n      <td>98.87</td>\n      <td>98.94</td>\n      <td>99.00</td>\n      <td>99.06</td>\n      <td>99.12</td>\n      <td>99.19</td>\n      <td>99.24</td>\n      <td>99.29</td>\n      <td>99.33</td>\n      <td>99.37</td>\n      <td>99.41</td>\n      <td>99.45</td>\n      <td>99.48</td>\n      <td>99.51</td>\n      <td>99.54</td>\n      <td>99.56</td>\n      <td>99.59</td>\n      <td>99.61</td>\n      <td>99.64</td>\n      <td>99.66</td>\n      <td>99.67</td>\n      <td>99.69</td>\n      <td>99.71</td>\n      <td>99.73</td>\n      <td>99.76</td>\n      <td>99.77</td>\n      <td>99.79</td>\n      <td>99.80</td>\n      <td>99.81</td>\n      <td>99.81</td>\n      <td>99.82</td>\n      <td>99.83</td>\n      <td>99.84</td>\n      <td>99.85</td>\n      <td>99.86</td>\n      <td>99.87</td>\n      <td>99.88</td>\n      <td>99.89</td>\n      <td>99.89</td>\n      <td>99.90</td>\n      <td>99.9</td>\n      <td>99.9</td>\n      <td>99.91</td>\n      <td>99.91</td>\n      <td>99.91</td>\n      <td>99.91</td>\n      <td>99.92</td>\n      <td>99.92</td>\n      <td>99.92</td>\n      <td>99.93</td>\n      <td>99.93</td>\n      <td>99.93</td>\n      <td>99.93</td>\n      <td>99.94</td>\n      <td>99.94</td>\n      <td>99.94</td>\n      <td>99.94</td>\n      <td>99.94</td>\n      <td>99.94</td>\n      <td>99.94</td>\n      <td>99.94</td>\n      <td>99.94</td>\n      <td>99.94</td>\n      <td>99.94</td>\n      <td>99.94</td>\n      <td>99.94</td>\n      <td>99.94</td>\n      <td>99.94</td>\n      <td>99.94</td>\n      <td>99.94</td>\n      <td>99.94</td>\n      <td>99.94</td>\n      <td>99.94</td>\n      <td>99.94</td>\n    </tr>\n  </tbody>\n</table>\n</div>",
      "text/plain": "Number pages                 0        10       20       30       40    \\\nCount                      788.00  1626.00  1519.00  1360.00  1135.00   \nPercentage (%)               1.23     2.54     2.37     2.13     1.77   \nCumulative Percentage (%)    1.23     3.77     6.14     8.27    10.04   \n\nNumber pages                  50       60       70      80      90      100   \\\nCount                      1032.00  1099.00  1096.00  947.00  894.00  855.00   \nPercentage (%)                1.61     1.72     1.71    1.48    1.40    1.34   \nCumulative Percentage (%)    11.65    13.37    15.08   16.56   17.96   19.30   \n\nNumber pages                 110     120     130     140     150     160   \\\nCount                      757.00  832.00  786.00  687.00  748.00  701.00   \nPercentage (%)               1.18    1.30    1.23    1.07    1.17    1.10   \nCumulative Percentage (%)   20.48   21.78   23.01   24.08   25.25   26.35   \n\nNumber pages                 170     180     190     200     210     220   \\\nCount                      679.00  714.00  751.00  737.00  764.00  819.00   \nPercentage (%)               1.06    1.12    1.17    1.15    1.19    1.28   \nCumulative Percentage (%)   27.41   28.53   29.70   30.85   32.04   33.32   \n\nNumber pages                 230      240      250      260      270   \\\nCount                      932.00  1027.00  1300.00  1218.00  1512.00   \nPercentage (%)               1.46     1.61     2.03     1.90     2.36   \nCumulative Percentage (%)   34.78    36.39    38.42    40.32    42.68   \n\nNumber pages                  280      290      300      310      320   \\\nCount                      1671.00  1999.00  2270.00  2435.00  1811.00   \nPercentage (%)                2.61     3.12     3.55     3.81     2.83   \nCumulative Percentage (%)    45.29    48.41    51.96    55.77    58.60   \n\nNumber pages                  330      340      350      360     370     380   \\\nCount                      1554.00  1242.00  1243.00  1026.00  904.00  945.00   \nPercentage (%)                2.43     1.94     1.94     1.60    1.41    1.48   \nCumulative Percentage (%)    61.03    62.97    64.91    66.51   67.92   69.40   \n\nNumber pages                390     400     410     420     430     440   \\\nCount                      898.0  820.00  842.00  796.00  759.00  762.00   \nPercentage (%)               1.4    1.28    1.32    1.24    1.19    1.19   \nCumulative Percentage (%)   70.8   72.08   73.40   74.64   75.83   77.02   \n\nNumber pages                 450     460     470     480     490     500   \\\nCount                      674.00  654.00  673.00  651.00  612.00  537.00   \nPercentage (%)               1.05    1.02    1.05    1.02    0.96    0.84   \nCumulative Percentage (%)   78.07   79.09   80.14   81.16   82.12   82.96   \n\nNumber pages                 510     520     530     540     550     560   \\\nCount                      566.00  512.00  491.00  434.00  378.00  378.00   \nPercentage (%)               0.88    0.80    0.77    0.68    0.59    0.59   \nCumulative Percentage (%)   83.84   84.64   85.41   86.09   86.68   87.27   \n\nNumber pages                 570     580     590     600     610     620   \\\nCount                      387.00  345.00  389.00  294.00  305.00  295.00   \nPercentage (%)               0.60    0.54    0.61    0.46    0.48    0.46   \nCumulative Percentage (%)   87.87   88.41   89.02   89.48   89.96   90.42   \n\nNumber pages                 630     640     650     660     670     680   \\\nCount                      301.00  299.00  272.00  241.00  253.00  243.00   \nPercentage (%)               0.47    0.47    0.43    0.38    0.40    0.38   \nCumulative Percentage (%)   90.89   91.36   91.79   92.17   92.57   92.95   \n\nNumber pages                 690     700     710     720     730    740   \\\nCount                      207.00  176.00  175.00  163.00  149.00  125.0   \nPercentage (%)               0.32    0.28    0.27    0.25    0.23    0.2   \nCumulative Percentage (%)   93.27   93.55   93.82   94.07   94.30   94.5   \n\nNumber pages                 750     760     770     780     790     800   \\\nCount                      132.00  137.00  137.00  127.00  139.00  138.00   \nPercentage (%)               0.21    0.21    0.21    0.20    0.22    0.22   \nCumulative Percentage (%)   94.71   94.92   95.13   95.33   95.55   95.77   \n\nNumber pages                 810     820     830     840     850    860   \\\nCount                      170.00  128.00  125.00  110.00  114.00  95.00   \nPercentage (%)               0.27    0.20    0.20    0.17    0.18   0.15   \nCumulative Percentage (%)   96.04   96.24   96.44   96.61   96.79  96.94   \n\nNumber pages                870    880    890    900    910    920    930   \\\nCount                      99.00  82.00  99.00  76.00  92.00  86.00  81.00   \nPercentage (%)              0.15   0.13   0.15   0.12   0.14   0.13   0.13   \nCumulative Percentage (%)  97.09  97.22  97.37  97.49  97.63  97.76  97.89   \n\nNumber pages                940    950    960    970    980    990    1000  \\\nCount                      87.00  87.00  77.00  59.00  53.00  54.00  59.00   \nPercentage (%)              0.14   0.14   0.12   0.09   0.08   0.08   0.09   \nCumulative Percentage (%)  98.03  98.17  98.29  98.38  98.46  98.54  98.63   \n\nNumber pages                1010   1020   1030   1040   1050   1060   1070  \\\nCount                      63.00  44.00  46.00  44.00  37.00  37.00  36.00   \nPercentage (%)              0.10   0.07   0.07   0.07   0.06   0.06   0.06   \nCumulative Percentage (%)  98.73  98.80  98.87  98.94  99.00  99.06  99.12   \n\nNumber pages                1080   1090   1100   1110   1120   1130   1140  \\\nCount                      46.00  34.00  30.00  25.00  26.00  25.00  25.00   \nPercentage (%)              0.07   0.05   0.05   0.04   0.04   0.04   0.04   \nCumulative Percentage (%)  99.19  99.24  99.29  99.33  99.37  99.41  99.45   \n\nNumber pages                1150   1160   1170   1180   1190   1200   1210  \\\nCount                      18.00  21.00  18.00  11.00  21.00  15.00  20.00   \nPercentage (%)              0.03   0.03   0.03   0.02   0.03   0.02   0.03   \nCumulative Percentage (%)  99.48  99.51  99.54  99.56  99.59  99.61  99.64   \n\nNumber pages                1220   1230   1240   1250   1260   1270   1280  \\\nCount                      15.00   9.00  12.00  10.00  15.00  16.00   7.00   \nPercentage (%)              0.02   0.01   0.02   0.02   0.02   0.03   0.01   \nCumulative Percentage (%)  99.66  99.67  99.69  99.71  99.73  99.76  99.77   \n\nNumber pages                1290   1300   1310   1320   1330   1340   1350  \\\nCount                      10.00   5.00   6.00   1.00   6.00   6.00   5.00   \nPercentage (%)              0.02   0.01   0.01   0.00   0.01   0.01   0.01   \nCumulative Percentage (%)  99.79  99.80  99.81  99.81  99.82  99.83  99.84   \n\nNumber pages                1360   1370   1380   1390   1400   1410   1420  \\\nCount                       4.00   4.00   6.00   5.00   4.00   3.00   6.00   \nPercentage (%)              0.01   0.01   0.01   0.01   0.01   0.00   0.01   \nCumulative Percentage (%)  99.85  99.86  99.87  99.88  99.89  99.89  99.90   \n\nNumber pages               1430  1440   1450   1460   1470   1480   1490  \\\nCount                       3.0   2.0   6.00   3.00   3.00   3.00   5.00   \nPercentage (%)              0.0   0.0   0.01   0.00   0.00   0.00   0.01   \nCumulative Percentage (%)  99.9  99.9  99.91  99.91  99.91  99.91  99.92   \n\nNumber pages                1500   1510   1520   1530   1540   1550   1560  \\\nCount                       1.00   2.00   4.00   3.00   2.00   2.00   4.00   \nPercentage (%)              0.00   0.00   0.01   0.00   0.00   0.00   0.01   \nCumulative Percentage (%)  99.92  99.92  99.93  99.93  99.93  99.93  99.94   \n\nNumber pages                1570   1580   1590   1600   1620   1640   1650  \\\nCount                       2.00   1.00   2.00   3.00   1.00   1.00   2.00   \nPercentage (%)              0.00   0.00   0.00   0.00   0.00   0.00   0.00   \nCumulative Percentage (%)  99.94  99.94  99.94  99.94  99.94  99.94  99.94   \n\nNumber pages                1670   1680   1690   1730   1740   1760   1770  \\\nCount                       1.00   1.00   2.00   1.00   2.00   1.00   1.00   \nPercentage (%)              0.00   0.00   0.00   0.00   0.00   0.00   0.00   \nCumulative Percentage (%)  99.94  99.94  99.94  99.94  99.94  99.94  99.94   \n\nNumber pages                1790   1820   1830   1910   1940   2170  \nCount                       1.00   1.00   1.00   1.00   1.00   1.00  \nPercentage (%)              0.00   0.00   0.00   0.00   0.00   0.00  \nCumulative Percentage (%)  99.94  99.94  99.94  99.94  99.94  99.94  "
     },
     "metadata": {},
     "output_type": "display_data"
    }
   ],
   "source": [
    "rounded_page_counter = Counter()\n",
    "list_of_page_numbers = []\n",
    "for result in results:\n",
    "    page_count = 0\n",
    "    # Do not add page counts of books that have no text.\n",
    "    if result['language'] == None:\n",
    "        continue \n",
    "    else:\n",
    "        for language_details in result['language_extras'].values():\n",
    "            page_count += int(language_details['count'])\n",
    "        list_of_page_numbers.append(page_count)\n",
    "        page_count = (page_count // 10) * 10\n",
    "        rounded_page_counter.update([page_count])\n",
    "\n",
    "total_page_count = sum(rounded_page_counter.values())\n",
    "df_number_pages = []\n",
    "page_counts = []\n",
    "page_count_percentage = []\n",
    "for number_pages, page_count in rounded_page_counter.items():\n",
    "    df_number_pages.append(number_pages)\n",
    "    page_counts.append(page_count)\n",
    "    page_count_percentage.append(round((page_count / total_page_count) * 100, 2))\n",
    "\n",
    "with pd.option_context('display.max_rows', None, 'display.max_columns', None):\n",
    "    page_count_df = pd.DataFrame({'Number pages': df_number_pages, 'Count': page_counts, 'Percentage (%)': page_count_percentage})\n",
    "    page_count_df = page_count_df.sort_values('Number pages')\n",
    "    page_count_df['Cumulative Percentage (%)'] = page_count_df['Percentage (%)'].cumsum()\n",
    "    page_count_df = page_count_df.set_index('Number pages')\n",
    "    display(page_count_df.T)"
   ]
  },
  {
   "cell_type": "code",
   "execution_count": 5,
   "metadata": {},
   "outputs": [
    {
     "data": {
      "text/plain": "count    63981.000000\nmean       325.985058\nstd        229.184900\nmin          1.000000\n25%        158.000000\n50%        304.000000\n75%        432.000000\nmax       2173.000000\ndtype: float64"
     },
     "execution_count": 5,
     "metadata": {},
     "output_type": "execute_result"
    }
   ],
   "source": [
    "pd.Series(list_of_page_numbers).describe()"
   ]
  },
  {
   "cell_type": "markdown",
   "metadata": {},
   "source": [
    "As we can see the mean number of pages in a book is around 325 and 50% of books have between 158 and 432 pages.\n",
    "\n",
    "However we can see that around 10.04% of all books have less than 50 pages, which I found unusal, but more unusual is that 1.23% of books have less than 10 pages. Below we plot the number of books by page count for books with less than 10 pages:\n",
    "\n"
   ]
  },
  {
   "cell_type": "code",
   "execution_count": 6,
   "metadata": {},
   "outputs": [
    {
     "name": "stdout",
     "output_type": "stream",
     "text": [
      "Number pages: 1, Count: 20\n",
      "Number pages: 2, Count: 21\n",
      "Number pages: 3, Count: 56\n",
      "Number pages: 4, Count: 100\n",
      "Number pages: 5, Count: 41\n",
      "Number pages: 6, Count: 84\n",
      "Number pages: 7, Count: 166\n",
      "Number pages: 8, Count: 206\n",
      "Number pages: 9, Count: 94\n"
     ]
    }
   ],
   "source": [
    "page_counts_less_than_10 = [page_number for page_number in list_of_page_numbers if page_number < 10]\n",
    "for page_number, count in sorted(Counter(page_counts_less_than_10).items()):\n",
    "    print(f'Number pages: {page_number}, Count: {count}')"
   ]
  },
  {
   "cell_type": "markdown",
   "metadata": {},
   "source": [
    "From this we can see that 20 books have 1 page, which is unusual I think for a book, the identifiers for the books and their volumne number can be seen below:"
   ]
  },
  {
   "cell_type": "code",
   "execution_count": 8,
   "metadata": {},
   "outputs": [
    {
     "name": "stdout",
     "output_type": "stream",
     "text": [
      "Identifier: 000610007, Volumne number: 01\n",
      "Identifier: 000624024, Volumne number: 02\n",
      "Identifier: 000667603, Volumne number: 01\n",
      "Identifier: 000667614, Volumne number: 01\n",
      "Identifier: 001246393, Volumne number: 01\n",
      "Identifier: 000396864, Volumne number: 01\n",
      "Identifier: 001539973, Volumne number: 01\n",
      "Identifier: 002296883, Volumne number: 01\n",
      "Identifier: 000104417, Volumne number: 01\n",
      "Identifier: 002895827, Volumne number: 01\n",
      "Identifier: 003836687, Volumne number: 01\n",
      "Identifier: 003859321, Volumne number: 01\n",
      "Identifier: 002227296, Volumne number: 01\n",
      "Identifier: 002244147, Volumne number: 01\n",
      "Identifier: 002244151, Volumne number: 01\n",
      "Identifier: 003275369, Volumne number: 01\n",
      "Identifier: 003448079, Volumne number: 01\n",
      "Identifier: 000522164, Volumne number: 01\n",
      "Identifier: 001944271, Volumne number: 01\n",
      "Identifier: 003052245, Volumne number: 01\n"
     ]
    }
   ],
   "source": [
    "identifier_for_1_page_books = []\n",
    "volumne_number_for_1_page_books = []\n",
    "for result in results:\n",
    "    page_count = 0\n",
    "    if result['language'] == None:\n",
    "        continue\n",
    "    for language_details in result['language_extras'].values():\n",
    "        page_count += int(language_details['count'])\n",
    "    if page_count == 1:\n",
    "        file_name = result['filename']\n",
    "        identifier, volumne, _ = file_name.split('_')\n",
    "        identifier_for_1_page_books.append(identifier)\n",
    "        volumne_number_for_1_page_books.append(volumne)\n",
    "\n",
    "for identifier, volumne_number in zip(identifier_for_1_page_books, volumne_number_for_1_page_books):\n",
    "    print(f'Identifier: {identifier}, Volumne number: {volumne_number}')"
   ]
  },
  {
   "cell_type": "markdown",
   "metadata": {},
   "source": [
    "Exploring the British Library collection online:\n",
    "\n",
    "1. 000522164 -- is \"In Memory of Prince Albert Victor Edward of England, Duke of Clarence, died 14 Jan. 1892. [Verses.]\", which is indeed one page long and can be found [here](http://explore.bl.uk/primo_library/libweb/action/display.do?frbrVersion=2&tabs=moreTab&ct=display&fn=search&doc=BLL01014608183&indx=1&recIds=BLL01014608183&recIdxs=0&elementId=0&renderMode=poppedOut&displayMode=full&frbrVersion=2&frbg=&&dscnt=0&scp.scps=scope%3A%28BLCONTENT%29&vl(2084770704UI0)=any&tb=t&vid=BLVU1&mode=Basic&srt=rank&tab=local_tab&dum=true&vl(freeText0)=In%20Memory%20of%20Prince%20Albert%20Victor%20Edward%20of%20England%2C%20Duke%20of%20Clarence%2C%20died%2014%20Jan.%201892.&dstmp=1627839394107)\n",
    "2. 000396864 -- is \"Song. The Life of Love is but a Day\", which again is one page long and can be found [here](http://explore.bl.uk/primo_library/libweb/action/display.do?frbrVersion=2&tabs=moreTab&ct=display&fn=search&doc=BLL01014635279&indx=1&recIds=BLL01014635279&recIdxs=0&elementId=0&renderMode=poppedOut&displayMode=full&frbrVersion=2&frbg=&&dscnt=0&scp.scps=scope%3A%28BLCONTENT%29&vl(2084770704UI0)=any&tb=t&vid=BLVU1&mode=Basic&srt=rank&tab=local_tab&dum=true&vl(freeText0)=Song.%20The%20Life%20of%20Love%20is%20but%20a%20Day&dstmp=1627839546003)\n",
    "3. 000624024 -- is \"Dieci anni in Equatoria e ritorno con Emin Pascia ... Con ... illustrazioni e ... carte, etc. [With a portrait.]']\", but as it is in volume 2 I cannot verify if it is one page as I can only find volume one [online](http://explore.bl.uk/primo_library/libweb/action/display.do?tabs=moreTab&ct=display&fn=search&doc=BLL01014839572&indx=1&recIds=BLL01014839572&recIdxs=0&elementId=0&renderMode=poppedOut&displayMode=full&frbrVersion=&dscnt=0&vl(2084770704UI0)=any&mode=Basic&vid=BLVU1&tab=available_online&dstmp=1627842397007&frbg=&frbrVersion=&viewAllItemsClicked=false&scp.scps=scope%3A%28BLWEBSITE%29%2Cscope%3A%28BLO_WA%29%2Cscope%3A%28BLO_Aleph%29%2Cscope%3A%28BLO_SFX%29%2Cscope%3A%28BLO_SAMI%29&tb=t&srt=rank&dum=true&selectedLocation=&vl(freeText0)=Dieci%20anni%20in%20Equatoria%20e%20ritorno%20con%20Emin%20Pascia%20...%20Con%20...%20illustrazioni%20e%20...%20carte%2C%20etc.%20%5BWith%20a%20portrait.)."
   ]
  },
  {
   "cell_type": "markdown",
   "metadata": {},
   "source": [
    "## Page length and the affect it may cause on language identification\n",
    "\n",
    "Having fewer pages in a book might be affecting the outcome of the language identification model. To test this we are going to group the books by page counts, where page counts will be round down to the neareast 10 pages e.g. less than 9 pages will be grouped to 0 and less than 19 grouped to 10, this grouping will be done for all book with less than 50 pages. Once grouped we will see that the distribution of languages are for those page count groups:"
   ]
  },
  {
   "cell_type": "code",
   "execution_count": 9,
   "metadata": {},
   "outputs": [],
   "source": [
    "def filter_books_by_page_count(books: List[Dict[str, Any]], \n",
    "                               min_number_pages: int,\n",
    "                               max_number_pages: int\n",
    "                               ) -> List[Dict[str, Any]]:\n",
    "    filtered_results: List[Dict[str, Any]] = []\n",
    "    for book in books:\n",
    "        page_count = 0\n",
    "        if book['language'] == None:\n",
    "            continue\n",
    "        for language_details in book['language_extras'].values():\n",
    "            page_count += int(language_details['count'])\n",
    "        if (page_count >= min_number_pages) and (page_count <= max_number_pages):\n",
    "            filtered_results.append(book)\n",
    "    return filtered_results\n",
    "\n",
    "def books_by_page_count_group(books: List[Dict[str, Any]], min_page_count: int, \n",
    "                              max_page_count: int) -> List[str]:\n",
    "    language_of_books: List[str] = []\n",
    "    for book in books:\n",
    "        page_count = 0\n",
    "        if book['language'] == None:\n",
    "            continue\n",
    "        for language_details in book['language_extras'].values():\n",
    "            page_count += int(language_details['count'])\n",
    "        if (page_count >= min_page_count) and (page_count <= max_page_count):\n",
    "            language_of_books.append(book['language'])\n",
    "    return language_of_books\n",
    "\n",
    "filtered_results = filter_books_by_page_count(results, 0, 49)"
   ]
  },
  {
   "cell_type": "markdown",
   "metadata": {},
   "source": [
    "### 0-9 pages"
   ]
  },
  {
   "cell_type": "code",
   "execution_count": 10,
   "metadata": {},
   "outputs": [
    {
     "data": {
      "text/html": "<div>\n<style scoped>\n    .dataframe tbody tr th:only-of-type {\n        vertical-align: middle;\n    }\n\n    .dataframe tbody tr th {\n        vertical-align: top;\n    }\n\n    .dataframe thead th {\n        text-align: right;\n    }\n</style>\n<table border=\"1\" class=\"dataframe\">\n  <thead>\n    <tr style=\"text-align: right;\">\n      <th></th>\n      <th>Language</th>\n      <th>Percentage (%)</th>\n      <th>Number of books</th>\n    </tr>\n  </thead>\n  <tbody>\n    <tr>\n      <th>0</th>\n      <td>English</td>\n      <td>93.15</td>\n      <td>734</td>\n    </tr>\n    <tr>\n      <th>1</th>\n      <td>French</td>\n      <td>2.03</td>\n      <td>16</td>\n    </tr>\n    <tr>\n      <th>2</th>\n      <td>Italian</td>\n      <td>1.14</td>\n      <td>9</td>\n    </tr>\n    <tr>\n      <th>3</th>\n      <td>German</td>\n      <td>1.02</td>\n      <td>8</td>\n    </tr>\n    <tr>\n      <th>4</th>\n      <td>Spanish</td>\n      <td>1.02</td>\n      <td>8</td>\n    </tr>\n    <tr>\n      <th>5</th>\n      <td>Latin</td>\n      <td>0.51</td>\n      <td>4</td>\n    </tr>\n    <tr>\n      <th>6</th>\n      <td>Russian</td>\n      <td>0.13</td>\n      <td>1</td>\n    </tr>\n    <tr>\n      <th>7</th>\n      <td>Finnish</td>\n      <td>0.13</td>\n      <td>1</td>\n    </tr>\n    <tr>\n      <th>8</th>\n      <td>Greek</td>\n      <td>0.13</td>\n      <td>1</td>\n    </tr>\n    <tr>\n      <th>9</th>\n      <td>Dutch</td>\n      <td>0.13</td>\n      <td>1</td>\n    </tr>\n    <tr>\n      <th>10</th>\n      <td>Catalan</td>\n      <td>0.13</td>\n      <td>1</td>\n    </tr>\n    <tr>\n      <th>11</th>\n      <td>Danish</td>\n      <td>0.13</td>\n      <td>1</td>\n    </tr>\n    <tr>\n      <th>12</th>\n      <td>Chinese</td>\n      <td>0.13</td>\n      <td>1</td>\n    </tr>\n    <tr>\n      <th>13</th>\n      <td>Czech</td>\n      <td>0.13</td>\n      <td>1</td>\n    </tr>\n    <tr>\n      <th>14</th>\n      <td>Japanese</td>\n      <td>0.13</td>\n      <td>1</td>\n    </tr>\n  </tbody>\n</table>\n</div>",
      "text/plain": "    Language  Percentage (%)  Number of books\n0    English           93.15              734\n1     French            2.03               16\n2    Italian            1.14                9\n3     German            1.02                8\n4    Spanish            1.02                8\n5      Latin            0.51                4\n6    Russian            0.13                1\n7    Finnish            0.13                1\n8      Greek            0.13                1\n9      Dutch            0.13                1\n10   Catalan            0.13                1\n11    Danish            0.13                1\n12   Chinese            0.13                1\n13     Czech            0.13                1\n14  Japanese            0.13                1"
     },
     "execution_count": 10,
     "metadata": {},
     "output_type": "execute_result"
    }
   ],
   "source": [
    "\n",
    "create_language_dataframe(Counter(books_by_page_count_group(filtered_results, 0, 9)))"
   ]
  },
  {
   "cell_type": "markdown",
   "metadata": {},
   "source": [
    "### 10-19 pages"
   ]
  },
  {
   "cell_type": "code",
   "execution_count": 11,
   "metadata": {},
   "outputs": [
    {
     "data": {
      "text/html": "<div>\n<style scoped>\n    .dataframe tbody tr th:only-of-type {\n        vertical-align: middle;\n    }\n\n    .dataframe tbody tr th {\n        vertical-align: top;\n    }\n\n    .dataframe thead th {\n        text-align: right;\n    }\n</style>\n<table border=\"1\" class=\"dataframe\">\n  <thead>\n    <tr style=\"text-align: right;\">\n      <th></th>\n      <th>Language</th>\n      <th>Percentage (%)</th>\n      <th>Number of books</th>\n    </tr>\n  </thead>\n  <tbody>\n    <tr>\n      <th>0</th>\n      <td>English</td>\n      <td>89.24</td>\n      <td>1451</td>\n    </tr>\n    <tr>\n      <th>1</th>\n      <td>French</td>\n      <td>4.55</td>\n      <td>74</td>\n    </tr>\n    <tr>\n      <th>2</th>\n      <td>German</td>\n      <td>2.58</td>\n      <td>42</td>\n    </tr>\n    <tr>\n      <th>3</th>\n      <td>Italian</td>\n      <td>1.48</td>\n      <td>24</td>\n    </tr>\n    <tr>\n      <th>4</th>\n      <td>Dutch</td>\n      <td>0.62</td>\n      <td>10</td>\n    </tr>\n    <tr>\n      <th>5</th>\n      <td>Spanish</td>\n      <td>0.43</td>\n      <td>7</td>\n    </tr>\n    <tr>\n      <th>6</th>\n      <td>Russian</td>\n      <td>0.31</td>\n      <td>5</td>\n    </tr>\n    <tr>\n      <th>7</th>\n      <td>Latin</td>\n      <td>0.25</td>\n      <td>4</td>\n    </tr>\n    <tr>\n      <th>8</th>\n      <td>Polish</td>\n      <td>0.18</td>\n      <td>3</td>\n    </tr>\n    <tr>\n      <th>9</th>\n      <td>Portuguese</td>\n      <td>0.12</td>\n      <td>2</td>\n    </tr>\n    <tr>\n      <th>10</th>\n      <td>Swedish</td>\n      <td>0.12</td>\n      <td>2</td>\n    </tr>\n    <tr>\n      <th>11</th>\n      <td>Greek</td>\n      <td>0.06</td>\n      <td>1</td>\n    </tr>\n    <tr>\n      <th>12</th>\n      <td>Czech</td>\n      <td>0.06</td>\n      <td>1</td>\n    </tr>\n  </tbody>\n</table>\n</div>",
      "text/plain": "      Language  Percentage (%)  Number of books\n0      English           89.24             1451\n1       French            4.55               74\n2       German            2.58               42\n3      Italian            1.48               24\n4        Dutch            0.62               10\n5      Spanish            0.43                7\n6      Russian            0.31                5\n7        Latin            0.25                4\n8       Polish            0.18                3\n9   Portuguese            0.12                2\n10     Swedish            0.12                2\n11       Greek            0.06                1\n12       Czech            0.06                1"
     },
     "execution_count": 11,
     "metadata": {},
     "output_type": "execute_result"
    }
   ],
   "source": [
    "create_language_dataframe(Counter(books_by_page_count_group(filtered_results, 10, 19)))"
   ]
  },
  {
   "cell_type": "markdown",
   "metadata": {},
   "source": [
    "### 20-29 pages"
   ]
  },
  {
   "cell_type": "code",
   "execution_count": 12,
   "metadata": {},
   "outputs": [
    {
     "data": {
      "text/html": "<div>\n<style scoped>\n    .dataframe tbody tr th:only-of-type {\n        vertical-align: middle;\n    }\n\n    .dataframe tbody tr th {\n        vertical-align: top;\n    }\n\n    .dataframe thead th {\n        text-align: right;\n    }\n</style>\n<table border=\"1\" class=\"dataframe\">\n  <thead>\n    <tr style=\"text-align: right;\">\n      <th></th>\n      <th>Language</th>\n      <th>Percentage (%)</th>\n      <th>Number of books</th>\n    </tr>\n  </thead>\n  <tbody>\n    <tr>\n      <th>0</th>\n      <td>English</td>\n      <td>86.44</td>\n      <td>1313</td>\n    </tr>\n    <tr>\n      <th>1</th>\n      <td>French</td>\n      <td>5.33</td>\n      <td>81</td>\n    </tr>\n    <tr>\n      <th>2</th>\n      <td>German</td>\n      <td>3.75</td>\n      <td>57</td>\n    </tr>\n    <tr>\n      <th>3</th>\n      <td>Italian</td>\n      <td>1.78</td>\n      <td>27</td>\n    </tr>\n    <tr>\n      <th>4</th>\n      <td>Spanish</td>\n      <td>0.79</td>\n      <td>12</td>\n    </tr>\n    <tr>\n      <th>5</th>\n      <td>Latin</td>\n      <td>0.46</td>\n      <td>7</td>\n    </tr>\n    <tr>\n      <th>6</th>\n      <td>Dutch</td>\n      <td>0.39</td>\n      <td>6</td>\n    </tr>\n    <tr>\n      <th>7</th>\n      <td>Russian</td>\n      <td>0.26</td>\n      <td>4</td>\n    </tr>\n    <tr>\n      <th>8</th>\n      <td>Swedish</td>\n      <td>0.26</td>\n      <td>4</td>\n    </tr>\n    <tr>\n      <th>9</th>\n      <td>Greek</td>\n      <td>0.20</td>\n      <td>3</td>\n    </tr>\n    <tr>\n      <th>10</th>\n      <td>Estonian</td>\n      <td>0.07</td>\n      <td>1</td>\n    </tr>\n    <tr>\n      <th>11</th>\n      <td>Polish</td>\n      <td>0.07</td>\n      <td>1</td>\n    </tr>\n    <tr>\n      <th>12</th>\n      <td>Portuguese</td>\n      <td>0.07</td>\n      <td>1</td>\n    </tr>\n    <tr>\n      <th>13</th>\n      <td>Danish</td>\n      <td>0.07</td>\n      <td>1</td>\n    </tr>\n    <tr>\n      <th>14</th>\n      <td>Finnish</td>\n      <td>0.07</td>\n      <td>1</td>\n    </tr>\n  </tbody>\n</table>\n</div>",
      "text/plain": "      Language  Percentage (%)  Number of books\n0      English           86.44             1313\n1       French            5.33               81\n2       German            3.75               57\n3      Italian            1.78               27\n4      Spanish            0.79               12\n5        Latin            0.46                7\n6        Dutch            0.39                6\n7      Russian            0.26                4\n8      Swedish            0.26                4\n9        Greek            0.20                3\n10    Estonian            0.07                1\n11      Polish            0.07                1\n12  Portuguese            0.07                1\n13      Danish            0.07                1\n14     Finnish            0.07                1"
     },
     "execution_count": 12,
     "metadata": {},
     "output_type": "execute_result"
    }
   ],
   "source": [
    "create_language_dataframe(Counter(books_by_page_count_group(filtered_results, 20, 29)))"
   ]
  },
  {
   "cell_type": "markdown",
   "metadata": {},
   "source": [
    "### 30-39 pages"
   ]
  },
  {
   "cell_type": "code",
   "execution_count": 13,
   "metadata": {},
   "outputs": [
    {
     "data": {
      "text/html": "<div>\n<style scoped>\n    .dataframe tbody tr th:only-of-type {\n        vertical-align: middle;\n    }\n\n    .dataframe tbody tr th {\n        vertical-align: top;\n    }\n\n    .dataframe thead th {\n        text-align: right;\n    }\n</style>\n<table border=\"1\" class=\"dataframe\">\n  <thead>\n    <tr style=\"text-align: right;\">\n      <th></th>\n      <th>Language</th>\n      <th>Percentage (%)</th>\n      <th>Number of books</th>\n    </tr>\n  </thead>\n  <tbody>\n    <tr>\n      <th>0</th>\n      <td>English</td>\n      <td>85.96</td>\n      <td>1169</td>\n    </tr>\n    <tr>\n      <th>1</th>\n      <td>German</td>\n      <td>4.41</td>\n      <td>60</td>\n    </tr>\n    <tr>\n      <th>2</th>\n      <td>French</td>\n      <td>4.04</td>\n      <td>55</td>\n    </tr>\n    <tr>\n      <th>3</th>\n      <td>Italian</td>\n      <td>1.99</td>\n      <td>27</td>\n    </tr>\n    <tr>\n      <th>4</th>\n      <td>Spanish</td>\n      <td>0.96</td>\n      <td>13</td>\n    </tr>\n    <tr>\n      <th>5</th>\n      <td>Dutch</td>\n      <td>0.74</td>\n      <td>10</td>\n    </tr>\n    <tr>\n      <th>6</th>\n      <td>Russian</td>\n      <td>0.51</td>\n      <td>7</td>\n    </tr>\n    <tr>\n      <th>7</th>\n      <td>Latin</td>\n      <td>0.51</td>\n      <td>7</td>\n    </tr>\n    <tr>\n      <th>8</th>\n      <td>Polish</td>\n      <td>0.22</td>\n      <td>3</td>\n    </tr>\n    <tr>\n      <th>9</th>\n      <td>Swedish</td>\n      <td>0.22</td>\n      <td>3</td>\n    </tr>\n    <tr>\n      <th>10</th>\n      <td>Danish</td>\n      <td>0.22</td>\n      <td>3</td>\n    </tr>\n    <tr>\n      <th>11</th>\n      <td>Portuguese</td>\n      <td>0.15</td>\n      <td>2</td>\n    </tr>\n    <tr>\n      <th>12</th>\n      <td>Serbian</td>\n      <td>0.07</td>\n      <td>1</td>\n    </tr>\n  </tbody>\n</table>\n</div>",
      "text/plain": "      Language  Percentage (%)  Number of books\n0      English           85.96             1169\n1       German            4.41               60\n2       French            4.04               55\n3      Italian            1.99               27\n4      Spanish            0.96               13\n5        Dutch            0.74               10\n6      Russian            0.51                7\n7        Latin            0.51                7\n8       Polish            0.22                3\n9      Swedish            0.22                3\n10      Danish            0.22                3\n11  Portuguese            0.15                2\n12     Serbian            0.07                1"
     },
     "execution_count": 13,
     "metadata": {},
     "output_type": "execute_result"
    }
   ],
   "source": [
    "create_language_dataframe(Counter(books_by_page_count_group(filtered_results, 30, 39)))"
   ]
  },
  {
   "cell_type": "markdown",
   "metadata": {},
   "source": [
    "### 40-49 pages"
   ]
  },
  {
   "cell_type": "code",
   "execution_count": 14,
   "metadata": {},
   "outputs": [
    {
     "data": {
      "text/html": "<div>\n<style scoped>\n    .dataframe tbody tr th:only-of-type {\n        vertical-align: middle;\n    }\n\n    .dataframe tbody tr th {\n        vertical-align: top;\n    }\n\n    .dataframe thead th {\n        text-align: right;\n    }\n</style>\n<table border=\"1\" class=\"dataframe\">\n  <thead>\n    <tr style=\"text-align: right;\">\n      <th></th>\n      <th>Language</th>\n      <th>Percentage (%)</th>\n      <th>Number of books</th>\n    </tr>\n  </thead>\n  <tbody>\n    <tr>\n      <th>0</th>\n      <td>English</td>\n      <td>84.49</td>\n      <td>959</td>\n    </tr>\n    <tr>\n      <th>1</th>\n      <td>German</td>\n      <td>4.76</td>\n      <td>54</td>\n    </tr>\n    <tr>\n      <th>2</th>\n      <td>French</td>\n      <td>4.32</td>\n      <td>49</td>\n    </tr>\n    <tr>\n      <th>3</th>\n      <td>Italian</td>\n      <td>1.59</td>\n      <td>18</td>\n    </tr>\n    <tr>\n      <th>4</th>\n      <td>Dutch</td>\n      <td>1.15</td>\n      <td>13</td>\n    </tr>\n    <tr>\n      <th>5</th>\n      <td>Spanish</td>\n      <td>0.97</td>\n      <td>11</td>\n    </tr>\n    <tr>\n      <th>6</th>\n      <td>Latin</td>\n      <td>0.88</td>\n      <td>10</td>\n    </tr>\n    <tr>\n      <th>7</th>\n      <td>Russian</td>\n      <td>0.44</td>\n      <td>5</td>\n    </tr>\n    <tr>\n      <th>8</th>\n      <td>Danish</td>\n      <td>0.44</td>\n      <td>5</td>\n    </tr>\n    <tr>\n      <th>9</th>\n      <td>Swedish</td>\n      <td>0.35</td>\n      <td>4</td>\n    </tr>\n    <tr>\n      <th>10</th>\n      <td>Portuguese</td>\n      <td>0.18</td>\n      <td>2</td>\n    </tr>\n    <tr>\n      <th>11</th>\n      <td>Hungarian</td>\n      <td>0.09</td>\n      <td>1</td>\n    </tr>\n    <tr>\n      <th>12</th>\n      <td>Serbian</td>\n      <td>0.09</td>\n      <td>1</td>\n    </tr>\n    <tr>\n      <th>13</th>\n      <td>Finnish</td>\n      <td>0.09</td>\n      <td>1</td>\n    </tr>\n    <tr>\n      <th>14</th>\n      <td>Greek</td>\n      <td>0.09</td>\n      <td>1</td>\n    </tr>\n    <tr>\n      <th>15</th>\n      <td>Polish</td>\n      <td>0.09</td>\n      <td>1</td>\n    </tr>\n  </tbody>\n</table>\n</div>",
      "text/plain": "      Language  Percentage (%)  Number of books\n0      English           84.49              959\n1       German            4.76               54\n2       French            4.32               49\n3      Italian            1.59               18\n4        Dutch            1.15               13\n5      Spanish            0.97               11\n6        Latin            0.88               10\n7      Russian            0.44                5\n8       Danish            0.44                5\n9      Swedish            0.35                4\n10  Portuguese            0.18                2\n11   Hungarian            0.09                1\n12     Serbian            0.09                1\n13     Finnish            0.09                1\n14       Greek            0.09                1\n15      Polish            0.09                1"
     },
     "execution_count": 14,
     "metadata": {},
     "output_type": "execute_result"
    }
   ],
   "source": [
    "create_language_dataframe(Counter(books_by_page_count_group(filtered_results, 40, 49)))"
   ]
  },
  {
   "cell_type": "markdown",
   "metadata": {},
   "source": [
    "### All other pages"
   ]
  },
  {
   "cell_type": "code",
   "execution_count": 15,
   "metadata": {},
   "outputs": [
    {
     "data": {
      "text/html": "<div>\n<style scoped>\n    .dataframe tbody tr th:only-of-type {\n        vertical-align: middle;\n    }\n\n    .dataframe tbody tr th {\n        vertical-align: top;\n    }\n\n    .dataframe thead th {\n        text-align: right;\n    }\n</style>\n<table border=\"1\" class=\"dataframe\">\n  <thead>\n    <tr style=\"text-align: right;\">\n      <th></th>\n      <th>Language</th>\n      <th>Percentage (%)</th>\n      <th>Number of books</th>\n    </tr>\n  </thead>\n  <tbody>\n    <tr>\n      <th>0</th>\n      <td>English</td>\n      <td>75.31</td>\n      <td>43342</td>\n    </tr>\n    <tr>\n      <th>1</th>\n      <td>French</td>\n      <td>8.63</td>\n      <td>4969</td>\n    </tr>\n    <tr>\n      <th>2</th>\n      <td>German</td>\n      <td>7.05</td>\n      <td>4056</td>\n    </tr>\n    <tr>\n      <th>3</th>\n      <td>Spanish</td>\n      <td>1.56</td>\n      <td>897</td>\n    </tr>\n    <tr>\n      <th>4</th>\n      <td>Dutch</td>\n      <td>1.38</td>\n      <td>792</td>\n    </tr>\n    <tr>\n      <th>5</th>\n      <td>Russian</td>\n      <td>1.35</td>\n      <td>778</td>\n    </tr>\n    <tr>\n      <th>6</th>\n      <td>Italian</td>\n      <td>1.33</td>\n      <td>768</td>\n    </tr>\n    <tr>\n      <th>7</th>\n      <td>Hungarian</td>\n      <td>0.68</td>\n      <td>391</td>\n    </tr>\n    <tr>\n      <th>8</th>\n      <td>Swedish</td>\n      <td>0.62</td>\n      <td>356</td>\n    </tr>\n    <tr>\n      <th>9</th>\n      <td>Danish</td>\n      <td>0.58</td>\n      <td>333</td>\n    </tr>\n    <tr>\n      <th>10</th>\n      <td>Polish</td>\n      <td>0.40</td>\n      <td>230</td>\n    </tr>\n    <tr>\n      <th>11</th>\n      <td>Latin</td>\n      <td>0.36</td>\n      <td>208</td>\n    </tr>\n    <tr>\n      <th>12</th>\n      <td>Portuguese</td>\n      <td>0.30</td>\n      <td>172</td>\n    </tr>\n    <tr>\n      <th>13</th>\n      <td>Greek</td>\n      <td>0.14</td>\n      <td>83</td>\n    </tr>\n    <tr>\n      <th>14</th>\n      <td>Czech</td>\n      <td>0.13</td>\n      <td>77</td>\n    </tr>\n    <tr>\n      <th>15</th>\n      <td>Catalan</td>\n      <td>0.03</td>\n      <td>17</td>\n    </tr>\n    <tr>\n      <th>16</th>\n      <td>Welsh</td>\n      <td>0.02</td>\n      <td>13</td>\n    </tr>\n    <tr>\n      <th>17</th>\n      <td>Ukrainian</td>\n      <td>0.02</td>\n      <td>12</td>\n    </tr>\n    <tr>\n      <th>18</th>\n      <td>Finnish</td>\n      <td>0.02</td>\n      <td>12</td>\n    </tr>\n    <tr>\n      <th>19</th>\n      <td>Serbian</td>\n      <td>0.02</td>\n      <td>10</td>\n    </tr>\n    <tr>\n      <th>20</th>\n      <td>Romanian</td>\n      <td>0.02</td>\n      <td>9</td>\n    </tr>\n    <tr>\n      <th>21</th>\n      <td>Bulgarian</td>\n      <td>0.01</td>\n      <td>7</td>\n    </tr>\n    <tr>\n      <th>22</th>\n      <td>Icelandic</td>\n      <td>0.01</td>\n      <td>5</td>\n    </tr>\n    <tr>\n      <th>23</th>\n      <td>Lithuanian</td>\n      <td>0.01</td>\n      <td>5</td>\n    </tr>\n    <tr>\n      <th>24</th>\n      <td>Croatian</td>\n      <td>0.01</td>\n      <td>3</td>\n    </tr>\n    <tr>\n      <th>25</th>\n      <td>Slovenian</td>\n      <td>0.00</td>\n      <td>2</td>\n    </tr>\n    <tr>\n      <th>26</th>\n      <td>Slovak</td>\n      <td>0.00</td>\n      <td>1</td>\n    </tr>\n    <tr>\n      <th>27</th>\n      <td>Norwegian Bokmål</td>\n      <td>0.00</td>\n      <td>1</td>\n    </tr>\n    <tr>\n      <th>28</th>\n      <td>Galician</td>\n      <td>0.00</td>\n      <td>1</td>\n    </tr>\n    <tr>\n      <th>29</th>\n      <td>Malagasy</td>\n      <td>0.00</td>\n      <td>1</td>\n    </tr>\n    <tr>\n      <th>30</th>\n      <td>Estonian</td>\n      <td>0.00</td>\n      <td>1</td>\n    </tr>\n  </tbody>\n</table>\n</div>",
      "text/plain": "            Language  Percentage (%)  Number of books\n0            English           75.31            43342\n1             French            8.63             4969\n2             German            7.05             4056\n3            Spanish            1.56              897\n4              Dutch            1.38              792\n5            Russian            1.35              778\n6            Italian            1.33              768\n7          Hungarian            0.68              391\n8            Swedish            0.62              356\n9             Danish            0.58              333\n10            Polish            0.40              230\n11             Latin            0.36              208\n12        Portuguese            0.30              172\n13             Greek            0.14               83\n14             Czech            0.13               77\n15           Catalan            0.03               17\n16             Welsh            0.02               13\n17         Ukrainian            0.02               12\n18           Finnish            0.02               12\n19           Serbian            0.02               10\n20          Romanian            0.02                9\n21         Bulgarian            0.01                7\n22         Icelandic            0.01                5\n23        Lithuanian            0.01                5\n24          Croatian            0.01                3\n25         Slovenian            0.00                2\n26            Slovak            0.00                1\n27  Norwegian Bokmål            0.00                1\n28          Galician            0.00                1\n29          Malagasy            0.00                1\n30          Estonian            0.00                1"
     },
     "execution_count": 15,
     "metadata": {},
     "output_type": "execute_result"
    }
   ],
   "source": [
    "create_language_dataframe(Counter(books_by_page_count_group(results, 50, 2000)))"
   ]
  },
  {
   "cell_type": "markdown",
   "metadata": {},
   "source": [
    "### Conclusion of page length affecting language identification\n",
    "\n",
    "We can see that the language idenitifcation distribution does change a bit, whereby the identification model appears to identify more English books, however this could be the case that there are more English books with fewer pages. Lastly this type of analysis does not determine that the language identification model is more accurate on fewer page it just shows that there is nothing abnormal occuring in books with fewer pages such as OCR errors on the title and index pages (which might make up a larger percentage of the book) affecting the language idenitification result. "
   ]
  },
  {
   "cell_type": "code",
   "execution_count": null,
   "metadata": {},
   "outputs": [],
   "source": []
  }
 ],
 "metadata": {
  "kernelspec": {
   "display_name": "Python 3.8.10 64-bit ('bl-books': conda)",
   "name": "python3810jvsc74a57bd0b3d4264fbdecd6096f3200980ee3a57cab4696b1f146aef46fc523411436b83b"
  },
  "language_info": {
   "codemirror_mode": {
    "name": "ipython",
    "version": 3
   },
   "file_extension": ".py",
   "mimetype": "text/x-python",
   "name": "python",
   "nbconvert_exporter": "python",
   "pygments_lexer": "ipython3",
   "version": "3.8.10"
  },
  "metadata": {
   "interpreter": {
    "hash": "b3d4264fbdecd6096f3200980ee3a57cab4696b1f146aef46fc523411436b83b"
   }
  },
  "orig_nbformat": 2
 },
 "nbformat": 4,
 "nbformat_minor": 2
}